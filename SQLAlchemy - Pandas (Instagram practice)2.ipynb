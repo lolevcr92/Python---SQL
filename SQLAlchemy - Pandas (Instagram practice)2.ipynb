{
 "cells": [
  {
   "cell_type": "code",
   "execution_count": 170,
   "metadata": {
    "ExecuteTime": {
     "end_time": "2019-11-11T14:43:29.967563Z",
     "start_time": "2019-11-11T14:43:29.963563Z"
    }
   },
   "outputs": [
    {
     "data": {
      "text/html": [
       "<style>.container { width:90% !important; }</style>"
      ],
      "text/plain": [
       "<IPython.core.display.HTML object>"
      ]
     },
     "metadata": {},
     "output_type": "display_data"
    }
   ],
   "source": [
    "from IPython.core.display import display, HTML\n",
    "display(HTML(\"<style>.container { width:90% !important; }</style>\"))"
   ]
  },
  {
   "cell_type": "markdown",
   "metadata": {},
   "source": [
    "## Bulding database"
   ]
  },
  {
   "cell_type": "code",
   "execution_count": 171,
   "metadata": {
    "ExecuteTime": {
     "end_time": "2019-11-11T14:43:31.110563Z",
     "start_time": "2019-11-11T14:43:31.101563Z"
    }
   },
   "outputs": [],
   "source": [
    "# Import everything needed\n",
    "\n",
    "import pandas as pd\n",
    "import matplotlib.pyplot as plt\n",
    "from sqlalchemy import create_engine\n",
    "from sqlalchemy.ext.declarative import declarative_base\n",
    "from sqlalchemy import MetaData, Column, Integer, String, DateTime, func, ForeignKey\n",
    "from sqlalchemy.orm import relationship, Session"
   ]
  },
  {
   "cell_type": "code",
   "execution_count": 172,
   "metadata": {
    "ExecuteTime": {
     "end_time": "2019-11-11T14:43:31.657563Z",
     "start_time": "2019-11-11T14:43:31.651563Z"
    }
   },
   "outputs": [],
   "source": [
    "# Create engine and initiate base class as a root for the rest of the tables\n",
    "engine = create_engine('sqlite:///igclone.db')\n",
    "Base = declarative_base()"
   ]
  },
  {
   "cell_type": "code",
   "execution_count": 196,
   "metadata": {
    "ExecuteTime": {
     "end_time": "2019-11-11T14:46:20.556563Z",
     "start_time": "2019-11-11T14:46:20.320563Z"
    }
   },
   "outputs": [
    {
     "name": "stderr",
     "output_type": "stream",
     "text": [
      "D:\\anaconda3\\lib\\site-packages\\sqlalchemy\\ext\\declarative\\clsregistry.py:120: SAWarning: This declarative base already contains a class with the same class name and module name as __main__.User, and will be replaced in the string-lookup table.\n",
      "  item.__name__\n"
     ]
    },
    {
     "ename": "InvalidRequestError",
     "evalue": "Table 'users' is already defined for this MetaData instance.  Specify 'extend_existing=True' to redefine options and columns on an existing Table object.",
     "output_type": "error",
     "traceback": [
      "\u001b[1;31m---------------------------------------------------------------------------\u001b[0m",
      "\u001b[1;31mInvalidRequestError\u001b[0m                       Traceback (most recent call last)",
      "\u001b[1;32m<ipython-input-196-590f41db6f2a>\u001b[0m in \u001b[0;36m<module>\u001b[1;34m\u001b[0m\n\u001b[0;32m      1\u001b[0m \u001b[1;31m# Build each table/class\u001b[0m\u001b[1;33m\u001b[0m\u001b[1;33m\u001b[0m\u001b[1;33m\u001b[0m\u001b[0m\n\u001b[0;32m      2\u001b[0m \u001b[1;33m\u001b[0m\u001b[0m\n\u001b[1;32m----> 3\u001b[1;33m \u001b[1;32mclass\u001b[0m \u001b[0mUser\u001b[0m\u001b[1;33m(\u001b[0m\u001b[0mBase\u001b[0m\u001b[1;33m)\u001b[0m\u001b[1;33m:\u001b[0m\u001b[1;33m\u001b[0m\u001b[1;33m\u001b[0m\u001b[0m\n\u001b[0m\u001b[0;32m      4\u001b[0m     \u001b[0m__tablename__\u001b[0m \u001b[1;33m=\u001b[0m \u001b[1;34m'users'\u001b[0m\u001b[1;33m\u001b[0m\u001b[1;33m\u001b[0m\u001b[0m\n\u001b[0;32m      5\u001b[0m \u001b[1;33m\u001b[0m\u001b[0m\n",
      "\u001b[1;32mD:\\anaconda3\\lib\\site-packages\\sqlalchemy\\ext\\declarative\\api.py\u001b[0m in \u001b[0;36m__init__\u001b[1;34m(cls, classname, bases, dict_)\u001b[0m\n\u001b[0;32m     62\u001b[0m     \u001b[1;32mdef\u001b[0m \u001b[0m__init__\u001b[0m\u001b[1;33m(\u001b[0m\u001b[0mcls\u001b[0m\u001b[1;33m,\u001b[0m \u001b[0mclassname\u001b[0m\u001b[1;33m,\u001b[0m \u001b[0mbases\u001b[0m\u001b[1;33m,\u001b[0m \u001b[0mdict_\u001b[0m\u001b[1;33m)\u001b[0m\u001b[1;33m:\u001b[0m\u001b[1;33m\u001b[0m\u001b[1;33m\u001b[0m\u001b[0m\n\u001b[0;32m     63\u001b[0m         \u001b[1;32mif\u001b[0m \u001b[1;34m'_decl_class_registry'\u001b[0m \u001b[1;32mnot\u001b[0m \u001b[1;32min\u001b[0m \u001b[0mcls\u001b[0m\u001b[1;33m.\u001b[0m\u001b[0m__dict__\u001b[0m\u001b[1;33m:\u001b[0m\u001b[1;33m\u001b[0m\u001b[1;33m\u001b[0m\u001b[0m\n\u001b[1;32m---> 64\u001b[1;33m             \u001b[0m_as_declarative\u001b[0m\u001b[1;33m(\u001b[0m\u001b[0mcls\u001b[0m\u001b[1;33m,\u001b[0m \u001b[0mclassname\u001b[0m\u001b[1;33m,\u001b[0m \u001b[0mcls\u001b[0m\u001b[1;33m.\u001b[0m\u001b[0m__dict__\u001b[0m\u001b[1;33m)\u001b[0m\u001b[1;33m\u001b[0m\u001b[1;33m\u001b[0m\u001b[0m\n\u001b[0m\u001b[0;32m     65\u001b[0m         \u001b[0mtype\u001b[0m\u001b[1;33m.\u001b[0m\u001b[0m__init__\u001b[0m\u001b[1;33m(\u001b[0m\u001b[0mcls\u001b[0m\u001b[1;33m,\u001b[0m \u001b[0mclassname\u001b[0m\u001b[1;33m,\u001b[0m \u001b[0mbases\u001b[0m\u001b[1;33m,\u001b[0m \u001b[0mdict_\u001b[0m\u001b[1;33m)\u001b[0m\u001b[1;33m\u001b[0m\u001b[1;33m\u001b[0m\u001b[0m\n\u001b[0;32m     66\u001b[0m \u001b[1;33m\u001b[0m\u001b[0m\n",
      "\u001b[1;32mD:\\anaconda3\\lib\\site-packages\\sqlalchemy\\ext\\declarative\\base.py\u001b[0m in \u001b[0;36m_as_declarative\u001b[1;34m(cls, classname, dict_)\u001b[0m\n\u001b[0;32m     86\u001b[0m         \u001b[1;32mreturn\u001b[0m\u001b[1;33m\u001b[0m\u001b[1;33m\u001b[0m\u001b[0m\n\u001b[0;32m     87\u001b[0m \u001b[1;33m\u001b[0m\u001b[0m\n\u001b[1;32m---> 88\u001b[1;33m     \u001b[0m_MapperConfig\u001b[0m\u001b[1;33m.\u001b[0m\u001b[0msetup_mapping\u001b[0m\u001b[1;33m(\u001b[0m\u001b[0mcls\u001b[0m\u001b[1;33m,\u001b[0m \u001b[0mclassname\u001b[0m\u001b[1;33m,\u001b[0m \u001b[0mdict_\u001b[0m\u001b[1;33m)\u001b[0m\u001b[1;33m\u001b[0m\u001b[1;33m\u001b[0m\u001b[0m\n\u001b[0m\u001b[0;32m     89\u001b[0m \u001b[1;33m\u001b[0m\u001b[0m\n\u001b[0;32m     90\u001b[0m \u001b[1;33m\u001b[0m\u001b[0m\n",
      "\u001b[1;32mD:\\anaconda3\\lib\\site-packages\\sqlalchemy\\ext\\declarative\\base.py\u001b[0m in \u001b[0;36msetup_mapping\u001b[1;34m(cls, cls_, classname, dict_)\u001b[0m\n\u001b[0;32m    101\u001b[0m         \u001b[1;32melse\u001b[0m\u001b[1;33m:\u001b[0m\u001b[1;33m\u001b[0m\u001b[1;33m\u001b[0m\u001b[0m\n\u001b[0;32m    102\u001b[0m             \u001b[0mcfg_cls\u001b[0m \u001b[1;33m=\u001b[0m \u001b[0m_MapperConfig\u001b[0m\u001b[1;33m\u001b[0m\u001b[1;33m\u001b[0m\u001b[0m\n\u001b[1;32m--> 103\u001b[1;33m         \u001b[0mcfg_cls\u001b[0m\u001b[1;33m(\u001b[0m\u001b[0mcls_\u001b[0m\u001b[1;33m,\u001b[0m \u001b[0mclassname\u001b[0m\u001b[1;33m,\u001b[0m \u001b[0mdict_\u001b[0m\u001b[1;33m)\u001b[0m\u001b[1;33m\u001b[0m\u001b[1;33m\u001b[0m\u001b[0m\n\u001b[0m\u001b[0;32m    104\u001b[0m \u001b[1;33m\u001b[0m\u001b[0m\n\u001b[0;32m    105\u001b[0m     \u001b[1;32mdef\u001b[0m \u001b[0m__init__\u001b[0m\u001b[1;33m(\u001b[0m\u001b[0mself\u001b[0m\u001b[1;33m,\u001b[0m \u001b[0mcls_\u001b[0m\u001b[1;33m,\u001b[0m \u001b[0mclassname\u001b[0m\u001b[1;33m,\u001b[0m \u001b[0mdict_\u001b[0m\u001b[1;33m)\u001b[0m\u001b[1;33m:\u001b[0m\u001b[1;33m\u001b[0m\u001b[1;33m\u001b[0m\u001b[0m\n",
      "\u001b[1;32mD:\\anaconda3\\lib\\site-packages\\sqlalchemy\\ext\\declarative\\base.py\u001b[0m in \u001b[0;36m__init__\u001b[1;34m(self, cls_, classname, dict_)\u001b[0m\n\u001b[0;32m    129\u001b[0m         \u001b[0mself\u001b[0m\u001b[1;33m.\u001b[0m\u001b[0m_extract_declared_columns\u001b[0m\u001b[1;33m(\u001b[0m\u001b[1;33m)\u001b[0m\u001b[1;33m\u001b[0m\u001b[1;33m\u001b[0m\u001b[0m\n\u001b[0;32m    130\u001b[0m \u001b[1;33m\u001b[0m\u001b[0m\n\u001b[1;32m--> 131\u001b[1;33m         \u001b[0mself\u001b[0m\u001b[1;33m.\u001b[0m\u001b[0m_setup_table\u001b[0m\u001b[1;33m(\u001b[0m\u001b[1;33m)\u001b[0m\u001b[1;33m\u001b[0m\u001b[1;33m\u001b[0m\u001b[0m\n\u001b[0m\u001b[0;32m    132\u001b[0m \u001b[1;33m\u001b[0m\u001b[0m\n\u001b[0;32m    133\u001b[0m         \u001b[0mself\u001b[0m\u001b[1;33m.\u001b[0m\u001b[0m_setup_inheritance\u001b[0m\u001b[1;33m(\u001b[0m\u001b[1;33m)\u001b[0m\u001b[1;33m\u001b[0m\u001b[1;33m\u001b[0m\u001b[0m\n",
      "\u001b[1;32mD:\\anaconda3\\lib\\site-packages\\sqlalchemy\\ext\\declarative\\base.py\u001b[0m in \u001b[0;36m_setup_table\u001b[1;34m(self)\u001b[0m\n\u001b[0;32m    393\u001b[0m                     \u001b[0mtablename\u001b[0m\u001b[1;33m,\u001b[0m \u001b[0mcls\u001b[0m\u001b[1;33m.\u001b[0m\u001b[0mmetadata\u001b[0m\u001b[1;33m,\u001b[0m\u001b[1;33m\u001b[0m\u001b[1;33m\u001b[0m\u001b[0m\n\u001b[0;32m    394\u001b[0m                     \u001b[1;33m*\u001b[0m\u001b[1;33m(\u001b[0m\u001b[0mtuple\u001b[0m\u001b[1;33m(\u001b[0m\u001b[0mdeclared_columns\u001b[0m\u001b[1;33m)\u001b[0m \u001b[1;33m+\u001b[0m \u001b[0mtuple\u001b[0m\u001b[1;33m(\u001b[0m\u001b[0margs\u001b[0m\u001b[1;33m)\u001b[0m\u001b[1;33m)\u001b[0m\u001b[1;33m,\u001b[0m\u001b[1;33m\u001b[0m\u001b[1;33m\u001b[0m\u001b[0m\n\u001b[1;32m--> 395\u001b[1;33m                     **table_kw)\n\u001b[0m\u001b[0;32m    396\u001b[0m         \u001b[1;32melse\u001b[0m\u001b[1;33m:\u001b[0m\u001b[1;33m\u001b[0m\u001b[1;33m\u001b[0m\u001b[0m\n\u001b[0;32m    397\u001b[0m             \u001b[0mtable\u001b[0m \u001b[1;33m=\u001b[0m \u001b[0mcls\u001b[0m\u001b[1;33m.\u001b[0m\u001b[0m__table__\u001b[0m\u001b[1;33m\u001b[0m\u001b[1;33m\u001b[0m\u001b[0m\n",
      "\u001b[1;32mD:\\anaconda3\\lib\\site-packages\\sqlalchemy\\sql\\schema.py\u001b[0m in \u001b[0;36m__new__\u001b[1;34m(cls, *args, **kw)\u001b[0m\n\u001b[0;32m    419\u001b[0m                     \u001b[1;34m\"to redefine \"\u001b[0m\u001b[1;33m\u001b[0m\u001b[1;33m\u001b[0m\u001b[0m\n\u001b[0;32m    420\u001b[0m                     \u001b[1;34m\"options and columns on an \"\u001b[0m\u001b[1;33m\u001b[0m\u001b[1;33m\u001b[0m\u001b[0m\n\u001b[1;32m--> 421\u001b[1;33m                     \"existing Table object.\" % key)\n\u001b[0m\u001b[0;32m    422\u001b[0m             \u001b[0mtable\u001b[0m \u001b[1;33m=\u001b[0m \u001b[0mmetadata\u001b[0m\u001b[1;33m.\u001b[0m\u001b[0mtables\u001b[0m\u001b[1;33m[\u001b[0m\u001b[0mkey\u001b[0m\u001b[1;33m]\u001b[0m\u001b[1;33m\u001b[0m\u001b[1;33m\u001b[0m\u001b[0m\n\u001b[0;32m    423\u001b[0m             \u001b[1;32mif\u001b[0m \u001b[0mextend_existing\u001b[0m\u001b[1;33m:\u001b[0m\u001b[1;33m\u001b[0m\u001b[1;33m\u001b[0m\u001b[0m\n",
      "\u001b[1;31mInvalidRequestError\u001b[0m: Table 'users' is already defined for this MetaData instance.  Specify 'extend_existing=True' to redefine options and columns on an existing Table object."
     ]
    }
   ],
   "source": [
    "# Build each table/class\n",
    "\n",
    "class User(Base):\n",
    "    __tablename__ = 'users'\n",
    "    \n",
    "    id = Column(Integer, primary_key = True)\n",
    "    username = Column(String(255), unique = True, nullable = False)\n",
    "    created_at = Column(DateTime(timezone = True), server_default = func.now())\n",
    "    \n",
    "    def __repr__(self):\n",
    "        return \"User<%r,%r,%r>\"%(self.id,self.username,self.created_at)\n",
    "    \n",
    "    \n",
    "class Photo(Base):\n",
    "    __tablename__ = 'photos'\n",
    "    \n",
    "    id = Column(Integer, primary_key = True)\n",
    "    image_url = Column(String(255), nullable = True)\n",
    "    created_at = Column(DateTime(timezone = True), server_default = func.now())\n",
    "    \n",
    "    user_id = Column(Integer, ForeignKey('users.id'), nullable = False)\n",
    "    \n",
    "    user_photo = relationship('User', backref='photos')\n",
    "    \n",
    "    def __repr__(self):\n",
    "        return \"Photo<%r,%r,%r,%r>\"%(self.id, self.image_url,self.created_at,self.user_id)\n",
    "    \n",
    "class Comment(Base):\n",
    "    __tablename__ = 'comments'\n",
    "    \n",
    "    id = Column(Integer, primary_key = True)\n",
    "    comment_text = Column(String(255), nullable = True)\n",
    "    created_at = Column(DateTime(timezone = True), server_default = func.now())\n",
    "    \n",
    "    user_id = Column(Integer, ForeignKey('users.id'), nullable = False)\n",
    "    photo_id = Column(Integer, ForeignKey('photos.id'), nullable = False)\n",
    "    \n",
    "    user_comment = relationship('User', backref = 'comments')\n",
    "    photo_comments = relationship('Photo', backref = 'comments')\n",
    "    \n",
    "    def __repr__(self):\n",
    "        return \"Comment <id: %r, created: %r, user: %r, photo: %r, text: %r\"%(self.id, self.created_at, self.user_id, self.photo_id, self.comment_text)\n",
    "    \n",
    "\n",
    "class Like(Base):\n",
    "    __tablename__ = 'likes'\n",
    "    \n",
    "    created_at = Column(DateTime(timezone = True), server_default = func.now())\n",
    "    \n",
    "    user_id = Column(Integer, ForeignKey('users.id'), primary_key = True, nullable = False)\n",
    "    photo_id = Column(Integer, ForeignKey('photos.id'), primary_key = True, nullable = False)\n",
    "    \n",
    "    user_like = relationship('User', backref = 'likes')\n",
    "    photo_like = relationship('Photo', backref = 'likes')\n",
    "    \n",
    "    def __repr__(self):\n",
    "        return 'Like <composite pk: %r-%r, created: %r'%(self.user_id,self.photo_id, self.created_at)\n",
    "    \n",
    "\n",
    "class Follow(Base):\n",
    "    __tablename__ = 'follows'\n",
    "    \n",
    "    follower_id = Column(Integer, ForeignKey('users.id'), primary_key = True, nullable = False)\n",
    "    followee_id = Column(Integer, ForeignKey('users.id'), primary_key = True, nullable = False)\n",
    "    created_at = Column(DateTime(timezone = True), server_default = func.now())\n",
    "    \n",
    "    user_follower = relationship(\"User\", foreign_keys=[follower_id], backref = 'followers')\n",
    "    user_following = relationship('User', foreign_keys=[followee_id], backref = 'following')\n",
    "    \n",
    "    def __repr__(self):\n",
    "        return 'Follow <composite pk: %r-%r, created>'%(self.follower_id, self.followee_id, self.created_at)\n",
    "    \n",
    "    \n",
    "class Tag(Base):\n",
    "    __tablename__ = 'tags'\n",
    "    \n",
    "    id = Column(Integer, primary_key = True)\n",
    "    tag_name = Column(String(255), unique = True)\n",
    "    created_at = Column(DateTime(timezone = True), server_default = func.now())\n",
    "    \n",
    "    def __repr__(self):\n",
    "        return\"Tag <id: %r, name: %r, created: %r>\"%(self.id, self.tag_name, self.created_at)\n",
    "    \n",
    "\n",
    "class Photo_tag(Base):\n",
    "    __tablename__ = 'photoTags'\n",
    "    \n",
    "    photo_id = Column(Integer, ForeignKey('photos.id'), primary_key = True, nullable = False)\n",
    "    tag_id = Column(Integer, ForeignKey('tags.id'), primary_key = True, nullable = False)\n",
    "    \n",
    "    photo_photag = relationship('Photo', foreign_keys=[photo_id], backref = 'tags')\n",
    "    tag_photag = relationship('Tag', foreign_keys=[tag_id], backref = 'photos')\n",
    "    \n",
    "    def __repr__(self):\n",
    "        return \"Photo_tag <composite pk: %r-%r\"%(self.photo_id, self.tag_id)"
   ]
  },
  {
   "cell_type": "markdown",
   "metadata": {},
   "source": [
    "### Create eveything in database (all python objects which are not holding an db equivalent)"
   ]
  },
  {
   "cell_type": "code",
   "execution_count": 174,
   "metadata": {
    "ExecuteTime": {
     "end_time": "2019-11-11T14:43:34.423563Z",
     "start_time": "2019-11-11T14:43:33.566563Z"
    }
   },
   "outputs": [],
   "source": [
    "Base.metadata.create_all(engine)"
   ]
  },
  {
   "cell_type": "markdown",
   "metadata": {},
   "source": [
    "## Data insertion"
   ]
  },
  {
   "cell_type": "code",
   "execution_count": 175,
   "metadata": {
    "ExecuteTime": {
     "end_time": "2019-11-11T14:43:35.476563Z",
     "start_time": "2019-11-11T14:43:35.469563Z"
    }
   },
   "outputs": [],
   "source": [
    "from sqlalchemy import inspect\n",
    "from sqlalchemy.sql import text"
   ]
  },
  {
   "cell_type": "code",
   "execution_count": 176,
   "metadata": {
    "ExecuteTime": {
     "end_time": "2019-11-11T14:43:35.923563Z",
     "start_time": "2019-11-11T14:43:35.891563Z"
    }
   },
   "outputs": [],
   "source": [
    "with open('users.txt', 'r') as file:\n",
    "    users_creation = text(file.read())\n",
    "\n",
    "with open('photos.txt', 'r') as file:\n",
    "    photos_creation = text(file.read())\n",
    "\n",
    "with open('follows.txt', 'r') as file:\n",
    "    follows_creation = text(file.read())\n",
    "    \n",
    "with open('comments.txt', 'r') as file:\n",
    "    comments_creation = text(file.read())\n",
    "    \n",
    "with open('likes.txt', 'r') as file:\n",
    "    likes_creation = text(file.read())\n",
    "    \n",
    "with open('tags.txt', 'r') as file:\n",
    "    tags_creation = text(file.read())\n",
    "    \n",
    "with open('photags.txt', 'r') as file:\n",
    "    photags_creation = text(file.read())"
   ]
  },
  {
   "cell_type": "code",
   "execution_count": 177,
   "metadata": {
    "ExecuteTime": {
     "end_time": "2019-11-11T14:43:36.693563Z",
     "start_time": "2019-11-11T14:43:36.688563Z"
    }
   },
   "outputs": [],
   "source": [
    "data_insertion = [users_creation, photos_creation, follows_creation, comments_creation, likes_creation, tags_creation, photags_creation]"
   ]
  },
  {
   "cell_type": "code",
   "execution_count": 178,
   "metadata": {
    "ExecuteTime": {
     "end_time": "2019-11-11T14:43:38.532563Z",
     "start_time": "2019-11-11T14:43:37.318563Z"
    }
   },
   "outputs": [],
   "source": [
    "with engine.connect() as con:\n",
    "    for dedicated in data_insertion:\n",
    "        con.execute(dedicated)\n",
    "    \n",
    "    print('*** Data was loaded ***')"
   ]
  },
  {
   "cell_type": "markdown",
   "metadata": {},
   "source": [
    "## Data visualization"
   ]
  },
  {
   "cell_type": "markdown",
   "metadata": {},
   "source": [
    "### Preview database schema"
   ]
  },
  {
   "cell_type": "code",
   "execution_count": 179,
   "metadata": {
    "ExecuteTime": {
     "end_time": "2019-11-11T14:44:15.307563Z",
     "start_time": "2019-11-11T14:44:15.300563Z"
    }
   },
   "outputs": [],
   "source": [
    "import codecs\n",
    "import sadisplay \n",
    "from graphviz import Source"
   ]
  },
  {
   "cell_type": "code",
   "execution_count": 180,
   "metadata": {
    "ExecuteTime": {
     "end_time": "2019-11-11T14:44:17.756563Z",
     "start_time": "2019-11-11T14:44:16.046563Z"
    }
   },
   "outputs": [
    {
     "name": "stderr",
     "output_type": "stream",
     "text": [
      "\r\n",
      "(dot.exe:18444): Pango-WARNING **: couldn't load font \"Bitstream Vera Sans Not-Rotated 8\", falling back to \"Sans Not-Rotated 8\", expect ugly output.\r\n"
     ]
    },
    {
     "data": {
      "image/svg+xml": [
       "<?xml version=\"1.0\" encoding=\"UTF-8\" standalone=\"no\"?>\r\n",
       "<!DOCTYPE svg PUBLIC \"-//W3C//DTD SVG 1.1//EN\"\r\n",
       " \"http://www.w3.org/Graphics/SVG/1.1/DTD/svg11.dtd\">\r\n",
       "<!-- Generated by graphviz version 2.38.0 (20140413.2041)\r\n",
       " -->\r\n",
       "<!-- Title: G Pages: 1 -->\r\n",
       "<svg width=\"663pt\" height=\"489pt\"\r\n",
       " viewBox=\"0.00 0.00 663.00 489.00\" xmlns=\"http://www.w3.org/2000/svg\" xmlns:xlink=\"http://www.w3.org/1999/xlink\">\r\n",
       "<g id=\"graph0\" class=\"graph\" transform=\"scale(1 1) rotate(0) translate(4 485)\">\r\n",
       "<title>G</title>\r\n",
       "<polygon fill=\"white\" stroke=\"none\" points=\"-4,4 -4,-485 659,-485 659,4 -4,4\"/>\r\n",
       "<text text-anchor=\"middle\" x=\"327.5\" y=\"-6.6\" font-family=\"Bitstream Vera Sans\" font-size=\"8.00\">generated by sadisplay v0.4.9</text>\r\n",
       "<!-- User -->\r\n",
       "<g id=\"node1\" class=\"node\"><title>User</title>\r\n",
       "<polygon fill=\"lightyellow\" stroke=\"none\" points=\"207,-21 207,-142 332,-142 332,-21 207,-21\"/>\r\n",
       "<polygon fill=\"palegoldenrod\" stroke=\"none\" points=\"207.5,-124.5 207.5,-141.5 332.5,-141.5 332.5,-124.5 207.5,-124.5\"/>\r\n",
       "<text text-anchor=\"start\" x=\"260.5\" y=\"-131.1\" font-family=\"Helvetica Bold\" font-size=\"8.00\">User</text>\r\n",
       "<text text-anchor=\"start\" x=\"209.5\" y=\"-116.1\" font-family=\"Bitstream Vera Sans\" font-size=\"8.00\">★ id</text>\r\n",
       "<text text-anchor=\"start\" x=\"274.5\" y=\"-116.1\" font-family=\"Bitstream Vera Sans\" font-size=\"8.00\">INTEGER</text>\r\n",
       "<text text-anchor=\"start\" x=\"209.5\" y=\"-103.1\" font-family=\"Bitstream Vera Sans\" font-size=\"8.00\">⚪ created_at</text>\r\n",
       "<text text-anchor=\"start\" x=\"274.5\" y=\"-103.1\" font-family=\"Bitstream Vera Sans\" font-size=\"8.00\">DATETIME</text>\r\n",
       "<text text-anchor=\"start\" x=\"209.5\" y=\"-90.1\" font-family=\"Bitstream Vera Sans\" font-size=\"8.00\">⚪ username</text>\r\n",
       "<text text-anchor=\"start\" x=\"274.5\" y=\"-90.1\" font-family=\"Bitstream Vera Sans\" font-size=\"8.00\">VARCHAR(255)</text>\r\n",
       "<polygon fill=\"palegoldenrod\" stroke=\"none\" points=\"207.5,-72.5 207.5,-85.5 272.5,-85.5 272.5,-72.5 207.5,-72.5\"/>\r\n",
       "<text text-anchor=\"start\" x=\"209.5\" y=\"-77.1\" font-family=\"Bitstream Vera Sans\" font-size=\"8.00\">⚪ comments</text>\r\n",
       "<polygon fill=\"palegoldenrod\" stroke=\"none\" points=\"272.5,-72.5 272.5,-85.5 332.5,-85.5 332.5,-72.5 272.5,-72.5\"/>\r\n",
       "<text text-anchor=\"start\" x=\"274.5\" y=\"-77.1\" font-family=\"Bitstream Vera Sans\" font-size=\"8.00\">PROPERTY</text>\r\n",
       "<polygon fill=\"palegoldenrod\" stroke=\"none\" points=\"207.5,-59.5 207.5,-72.5 272.5,-72.5 272.5,-59.5 207.5,-59.5\"/>\r\n",
       "<text text-anchor=\"start\" x=\"209.5\" y=\"-64.1\" font-family=\"Bitstream Vera Sans\" font-size=\"8.00\">⚪ followers</text>\r\n",
       "<polygon fill=\"palegoldenrod\" stroke=\"none\" points=\"272.5,-59.5 272.5,-72.5 332.5,-72.5 332.5,-59.5 272.5,-59.5\"/>\r\n",
       "<text text-anchor=\"start\" x=\"274.5\" y=\"-64.1\" font-family=\"Bitstream Vera Sans\" font-size=\"8.00\">PROPERTY</text>\r\n",
       "<polygon fill=\"palegoldenrod\" stroke=\"none\" points=\"207.5,-46.5 207.5,-59.5 272.5,-59.5 272.5,-46.5 207.5,-46.5\"/>\r\n",
       "<text text-anchor=\"start\" x=\"209.5\" y=\"-51.1\" font-family=\"Bitstream Vera Sans\" font-size=\"8.00\">⚪ following</text>\r\n",
       "<polygon fill=\"palegoldenrod\" stroke=\"none\" points=\"272.5,-46.5 272.5,-59.5 332.5,-59.5 332.5,-46.5 272.5,-46.5\"/>\r\n",
       "<text text-anchor=\"start\" x=\"274.5\" y=\"-51.1\" font-family=\"Bitstream Vera Sans\" font-size=\"8.00\">PROPERTY</text>\r\n",
       "<polygon fill=\"palegoldenrod\" stroke=\"none\" points=\"207.5,-33.5 207.5,-46.5 272.5,-46.5 272.5,-33.5 207.5,-33.5\"/>\r\n",
       "<text text-anchor=\"start\" x=\"209.5\" y=\"-38.1\" font-family=\"Bitstream Vera Sans\" font-size=\"8.00\">⚪ likes</text>\r\n",
       "<polygon fill=\"palegoldenrod\" stroke=\"none\" points=\"272.5,-33.5 272.5,-46.5 332.5,-46.5 332.5,-33.5 272.5,-33.5\"/>\r\n",
       "<text text-anchor=\"start\" x=\"274.5\" y=\"-38.1\" font-family=\"Bitstream Vera Sans\" font-size=\"8.00\">PROPERTY</text>\r\n",
       "<polygon fill=\"palegoldenrod\" stroke=\"none\" points=\"207.5,-20.5 207.5,-33.5 272.5,-33.5 272.5,-20.5 207.5,-20.5\"/>\r\n",
       "<text text-anchor=\"start\" x=\"209.5\" y=\"-25.1\" font-family=\"Bitstream Vera Sans\" font-size=\"8.00\">⚪ photos</text>\r\n",
       "<polygon fill=\"palegoldenrod\" stroke=\"none\" points=\"272.5,-20.5 272.5,-33.5 332.5,-33.5 332.5,-20.5 272.5,-20.5\"/>\r\n",
       "<text text-anchor=\"start\" x=\"274.5\" y=\"-25.1\" font-family=\"Bitstream Vera Sans\" font-size=\"8.00\">PROPERTY</text>\r\n",
       "</g>\r\n",
       "<!-- Photo -->\r\n",
       "<g id=\"node2\" class=\"node\"><title>Photo</title>\r\n",
       "<polygon fill=\"lightyellow\" stroke=\"none\" points=\"206,-195 206,-316 333,-316 333,-195 206,-195\"/>\r\n",
       "<polygon fill=\"palegoldenrod\" stroke=\"none\" points=\"206.5,-298.5 206.5,-315.5 333.5,-315.5 333.5,-298.5 206.5,-298.5\"/>\r\n",
       "<text text-anchor=\"start\" x=\"257.5\" y=\"-305.1\" font-family=\"Helvetica Bold\" font-size=\"8.00\">Photo</text>\r\n",
       "<text text-anchor=\"start\" x=\"208.5\" y=\"-290.1\" font-family=\"Bitstream Vera Sans\" font-size=\"8.00\">★ id</text>\r\n",
       "<text text-anchor=\"start\" x=\"275.5\" y=\"-290.1\" font-family=\"Bitstream Vera Sans\" font-size=\"8.00\">INTEGER</text>\r\n",
       "<text text-anchor=\"start\" x=\"208.5\" y=\"-277.1\" font-family=\"Bitstream Vera Sans\" font-size=\"8.00\">☆ user_id</text>\r\n",
       "<text text-anchor=\"start\" x=\"275.5\" y=\"-277.1\" font-family=\"Bitstream Vera Sans\" font-size=\"8.00\">INTEGER</text>\r\n",
       "<text text-anchor=\"start\" x=\"208.5\" y=\"-264.1\" font-family=\"Bitstream Vera Sans\" font-size=\"8.00\">⚪ created_at</text>\r\n",
       "<text text-anchor=\"start\" x=\"275.5\" y=\"-264.1\" font-family=\"Bitstream Vera Sans\" font-size=\"8.00\">DATETIME</text>\r\n",
       "<text text-anchor=\"start\" x=\"208.5\" y=\"-251.1\" font-family=\"Bitstream Vera Sans\" font-size=\"8.00\">⚪ image_url</text>\r\n",
       "<text text-anchor=\"start\" x=\"275.5\" y=\"-251.1\" font-family=\"Bitstream Vera Sans\" font-size=\"8.00\">VARCHAR(255)</text>\r\n",
       "<polygon fill=\"palegoldenrod\" stroke=\"none\" points=\"206.5,-233.5 206.5,-246.5 273.5,-246.5 273.5,-233.5 206.5,-233.5\"/>\r\n",
       "<text text-anchor=\"start\" x=\"208.5\" y=\"-238.1\" font-family=\"Bitstream Vera Sans\" font-size=\"8.00\">⚪ comments</text>\r\n",
       "<polygon fill=\"palegoldenrod\" stroke=\"none\" points=\"273.5,-233.5 273.5,-246.5 333.5,-246.5 333.5,-233.5 273.5,-233.5\"/>\r\n",
       "<text text-anchor=\"start\" x=\"275.5\" y=\"-238.1\" font-family=\"Bitstream Vera Sans\" font-size=\"8.00\">PROPERTY</text>\r\n",
       "<polygon fill=\"palegoldenrod\" stroke=\"none\" points=\"206.5,-220.5 206.5,-233.5 273.5,-233.5 273.5,-220.5 206.5,-220.5\"/>\r\n",
       "<text text-anchor=\"start\" x=\"208.5\" y=\"-225.1\" font-family=\"Bitstream Vera Sans\" font-size=\"8.00\">⚪ likes</text>\r\n",
       "<polygon fill=\"palegoldenrod\" stroke=\"none\" points=\"273.5,-220.5 273.5,-233.5 333.5,-233.5 333.5,-220.5 273.5,-220.5\"/>\r\n",
       "<text text-anchor=\"start\" x=\"275.5\" y=\"-225.1\" font-family=\"Bitstream Vera Sans\" font-size=\"8.00\">PROPERTY</text>\r\n",
       "<polygon fill=\"palegoldenrod\" stroke=\"none\" points=\"206.5,-207.5 206.5,-220.5 273.5,-220.5 273.5,-207.5 206.5,-207.5\"/>\r\n",
       "<text text-anchor=\"start\" x=\"208.5\" y=\"-212.1\" font-family=\"Bitstream Vera Sans\" font-size=\"8.00\">⚪ tags</text>\r\n",
       "<polygon fill=\"palegoldenrod\" stroke=\"none\" points=\"273.5,-207.5 273.5,-220.5 333.5,-220.5 333.5,-207.5 273.5,-207.5\"/>\r\n",
       "<text text-anchor=\"start\" x=\"275.5\" y=\"-212.1\" font-family=\"Bitstream Vera Sans\" font-size=\"8.00\">PROPERTY</text>\r\n",
       "<polygon fill=\"palegoldenrod\" stroke=\"none\" points=\"206.5,-194.5 206.5,-207.5 273.5,-207.5 273.5,-194.5 206.5,-194.5\"/>\r\n",
       "<text text-anchor=\"start\" x=\"208.5\" y=\"-199.1\" font-family=\"Bitstream Vera Sans\" font-size=\"8.00\">⚪ user_photo</text>\r\n",
       "<polygon fill=\"palegoldenrod\" stroke=\"none\" points=\"273.5,-194.5 273.5,-207.5 333.5,-207.5 333.5,-194.5 273.5,-194.5\"/>\r\n",
       "<text text-anchor=\"start\" x=\"275.5\" y=\"-199.1\" font-family=\"Bitstream Vera Sans\" font-size=\"8.00\">PROPERTY</text>\r\n",
       "</g>\r\n",
       "<!-- Photo&#45;&gt;User -->\r\n",
       "<g id=\"edge1\" class=\"edge\"><title>Photo&#45;&gt;User</title>\r\n",
       "<path fill=\"none\" stroke=\"black\" d=\"M269.5,-190.942C269.5,-180.304 269.5,-169.174 269.5,-158.266\"/>\r\n",
       "<polygon fill=\"none\" stroke=\"black\" points=\"269.5,-158.084 265.5,-152.084 269.5,-146.084 273.5,-152.083 269.5,-158.084\"/>\r\n",
       "<text text-anchor=\"middle\" x=\"283\" y=\"-166.6\" font-family=\"Bitstream Vera Sans\" font-size=\"8.00\">user_id</text>\r\n",
       "</g>\r\n",
       "<!-- Comment -->\r\n",
       "<g id=\"node3\" class=\"node\"><title>Comment</title>\r\n",
       "<polygon fill=\"lightyellow\" stroke=\"none\" points=\"8,-369 8,-477 155,-477 155,-369 8,-369\"/>\r\n",
       "<polygon fill=\"palegoldenrod\" stroke=\"none\" points=\"8.5,-460 8.5,-477 155.5,-477 155.5,-460 8.5,-460\"/>\r\n",
       "<text text-anchor=\"start\" x=\"62\" y=\"-466.6\" font-family=\"Helvetica Bold\" font-size=\"8.00\">Comment</text>\r\n",
       "<text text-anchor=\"start\" x=\"10.5\" y=\"-451.6\" font-family=\"Bitstream Vera Sans\" font-size=\"8.00\">★ id</text>\r\n",
       "<text text-anchor=\"start\" x=\"97.5\" y=\"-451.6\" font-family=\"Bitstream Vera Sans\" font-size=\"8.00\">INTEGER</text>\r\n",
       "<text text-anchor=\"start\" x=\"10.5\" y=\"-438.6\" font-family=\"Bitstream Vera Sans\" font-size=\"8.00\">☆ photo_id</text>\r\n",
       "<text text-anchor=\"start\" x=\"97.5\" y=\"-438.6\" font-family=\"Bitstream Vera Sans\" font-size=\"8.00\">INTEGER</text>\r\n",
       "<text text-anchor=\"start\" x=\"10.5\" y=\"-425.6\" font-family=\"Bitstream Vera Sans\" font-size=\"8.00\">☆ user_id</text>\r\n",
       "<text text-anchor=\"start\" x=\"97.5\" y=\"-425.6\" font-family=\"Bitstream Vera Sans\" font-size=\"8.00\">INTEGER</text>\r\n",
       "<text text-anchor=\"start\" x=\"10.5\" y=\"-412.6\" font-family=\"Bitstream Vera Sans\" font-size=\"8.00\">⚪ comment_text</text>\r\n",
       "<text text-anchor=\"start\" x=\"97.5\" y=\"-412.6\" font-family=\"Bitstream Vera Sans\" font-size=\"8.00\">VARCHAR(255)</text>\r\n",
       "<text text-anchor=\"start\" x=\"10.5\" y=\"-399.6\" font-family=\"Bitstream Vera Sans\" font-size=\"8.00\">⚪ created_at</text>\r\n",
       "<text text-anchor=\"start\" x=\"97.5\" y=\"-399.6\" font-family=\"Bitstream Vera Sans\" font-size=\"8.00\">DATETIME</text>\r\n",
       "<polygon fill=\"palegoldenrod\" stroke=\"none\" points=\"8.5,-382 8.5,-395 95.5,-395 95.5,-382 8.5,-382\"/>\r\n",
       "<text text-anchor=\"start\" x=\"10.5\" y=\"-386.6\" font-family=\"Bitstream Vera Sans\" font-size=\"8.00\">⚪ photo_comments</text>\r\n",
       "<polygon fill=\"palegoldenrod\" stroke=\"none\" points=\"95.5,-382 95.5,-395 155.5,-395 155.5,-382 95.5,-382\"/>\r\n",
       "<text text-anchor=\"start\" x=\"97.5\" y=\"-386.6\" font-family=\"Bitstream Vera Sans\" font-size=\"8.00\">PROPERTY</text>\r\n",
       "<polygon fill=\"palegoldenrod\" stroke=\"none\" points=\"8.5,-369 8.5,-382 95.5,-382 95.5,-369 8.5,-369\"/>\r\n",
       "<text text-anchor=\"start\" x=\"10.5\" y=\"-373.6\" font-family=\"Bitstream Vera Sans\" font-size=\"8.00\">⚪ user_comment</text>\r\n",
       "<polygon fill=\"palegoldenrod\" stroke=\"none\" points=\"95.5,-369 95.5,-382 155.5,-382 155.5,-369 95.5,-369\"/>\r\n",
       "<text text-anchor=\"start\" x=\"97.5\" y=\"-373.6\" font-family=\"Bitstream Vera Sans\" font-size=\"8.00\">PROPERTY</text>\r\n",
       "</g>\r\n",
       "<!-- Comment&#45;&gt;User -->\r\n",
       "<g id=\"edge2\" class=\"edge\"><title>Comment&#45;&gt;User</title>\r\n",
       "<path fill=\"none\" stroke=\"black\" d=\"M77.7882,-364.586C77.2793,-315.074 83.2115,-243.477 115.5,-191 132.977,-162.595 160.965,-139.604 188.318,-122.221\"/>\r\n",
       "<polygon fill=\"none\" stroke=\"black\" points=\"188.514,-122.101 191.541,-115.556 198.747,-115.833 195.72,-122.378 188.514,-122.101\"/>\r\n",
       "<text text-anchor=\"middle\" x=\"129\" y=\"-253.6\" font-family=\"Bitstream Vera Sans\" font-size=\"8.00\">user_id</text>\r\n",
       "</g>\r\n",
       "<!-- Comment&#45;&gt;Photo -->\r\n",
       "<g id=\"edge3\" class=\"edge\"><title>Comment&#45;&gt;Photo</title>\r\n",
       "<path fill=\"none\" stroke=\"black\" d=\"M146.462,-364.813C160.044,-352.856 174.523,-340.11 188.601,-327.717\"/>\r\n",
       "<polygon fill=\"none\" stroke=\"black\" points=\"188.775,-327.564 190.635,-320.597 197.782,-319.635 195.922,-326.602 188.775,-327.564\"/>\r\n",
       "<text text-anchor=\"middle\" x=\"191.5\" y=\"-340.6\" font-family=\"Bitstream Vera Sans\" font-size=\"8.00\">photo_id</text>\r\n",
       "</g>\r\n",
       "<!-- Like -->\r\n",
       "<g id=\"node4\" class=\"node\"><title>Like</title>\r\n",
       "<polygon fill=\"lightyellow\" stroke=\"none\" points=\"193,-382 193,-464 302,-464 302,-382 193,-382\"/>\r\n",
       "<polygon fill=\"palegoldenrod\" stroke=\"none\" points=\"193.5,-447 193.5,-464 302.5,-464 302.5,-447 193.5,-447\"/>\r\n",
       "<text text-anchor=\"start\" x=\"239.5\" y=\"-453.6\" font-family=\"Helvetica Bold\" font-size=\"8.00\">Like</text>\r\n",
       "<text text-anchor=\"start\" x=\"195.5\" y=\"-438.6\" font-family=\"Bitstream Vera Sans\" font-size=\"8.00\">★ photo_id</text>\r\n",
       "<text text-anchor=\"start\" x=\"260.5\" y=\"-438.6\" font-family=\"Bitstream Vera Sans\" font-size=\"8.00\">INTEGER</text>\r\n",
       "<text text-anchor=\"start\" x=\"195.5\" y=\"-425.6\" font-family=\"Bitstream Vera Sans\" font-size=\"8.00\">★ user_id</text>\r\n",
       "<text text-anchor=\"start\" x=\"260.5\" y=\"-425.6\" font-family=\"Bitstream Vera Sans\" font-size=\"8.00\">INTEGER</text>\r\n",
       "<text text-anchor=\"start\" x=\"195.5\" y=\"-412.6\" font-family=\"Bitstream Vera Sans\" font-size=\"8.00\">⚪ created_at</text>\r\n",
       "<text text-anchor=\"start\" x=\"260.5\" y=\"-412.6\" font-family=\"Bitstream Vera Sans\" font-size=\"8.00\">DATETIME</text>\r\n",
       "<polygon fill=\"palegoldenrod\" stroke=\"none\" points=\"193.5,-395 193.5,-408 258.5,-408 258.5,-395 193.5,-395\"/>\r\n",
       "<text text-anchor=\"start\" x=\"195.5\" y=\"-399.6\" font-family=\"Bitstream Vera Sans\" font-size=\"8.00\">⚪ photo_like</text>\r\n",
       "<polygon fill=\"palegoldenrod\" stroke=\"none\" points=\"258.5,-395 258.5,-408 302.5,-408 302.5,-395 258.5,-395\"/>\r\n",
       "<text text-anchor=\"start\" x=\"260.5\" y=\"-399.6\" font-family=\"Bitstream Vera Sans\" font-size=\"8.00\">PROPERTY</text>\r\n",
       "<polygon fill=\"palegoldenrod\" stroke=\"none\" points=\"193.5,-382 193.5,-395 258.5,-395 258.5,-382 193.5,-382\"/>\r\n",
       "<text text-anchor=\"start\" x=\"195.5\" y=\"-386.6\" font-family=\"Bitstream Vera Sans\" font-size=\"8.00\">⚪ user_like</text>\r\n",
       "<polygon fill=\"palegoldenrod\" stroke=\"none\" points=\"258.5,-382 258.5,-395 302.5,-395 302.5,-382 258.5,-382\"/>\r\n",
       "<text text-anchor=\"start\" x=\"260.5\" y=\"-386.6\" font-family=\"Bitstream Vera Sans\" font-size=\"8.00\">PROPERTY</text>\r\n",
       "</g>\r\n",
       "<!-- Like&#45;&gt;User -->\r\n",
       "<g id=\"edge4\" class=\"edge\"><title>Like&#45;&gt;User</title>\r\n",
       "<path fill=\"none\" stroke=\"black\" d=\"M198.56,-377.764C183.717,-361.266 169.289,-341.321 161.5,-320 141.827,-266.148 139.621,-243.994 161.5,-191 168.216,-174.732 178.684,-159.621 190.513,-146.156\"/>\r\n",
       "<polygon fill=\"none\" stroke=\"black\" points=\"190.74,-145.911 191.88,-138.79 198.891,-137.103 197.752,-144.224 190.74,-145.911\"/>\r\n",
       "<text text-anchor=\"middle\" x=\"175\" y=\"-253.6\" font-family=\"Bitstream Vera Sans\" font-size=\"8.00\">user_id</text>\r\n",
       "</g>\r\n",
       "<!-- Like&#45;&gt;Photo -->\r\n",
       "<g id=\"edge5\" class=\"edge\"><title>Like&#45;&gt;Photo</title>\r\n",
       "<path fill=\"none\" stroke=\"black\" d=\"M253.396,-377.649C255.244,-363.748 257.338,-347.988 259.392,-332.543\"/>\r\n",
       "<polygon fill=\"none\" stroke=\"black\" points=\"259.442,-332.16 256.268,-325.685 261.024,-320.265 264.198,-326.739 259.442,-332.16\"/>\r\n",
       "<text text-anchor=\"middle\" x=\"274.5\" y=\"-340.6\" font-family=\"Bitstream Vera Sans\" font-size=\"8.00\">photo_id</text>\r\n",
       "</g>\r\n",
       "<!-- Follow -->\r\n",
       "<g id=\"node5\" class=\"node\"><title>Follow</title>\r\n",
       "<polygon fill=\"lightyellow\" stroke=\"none\" points=\"367,-214.5 367,-296.5 488,-296.5 488,-214.5 367,-214.5\"/>\r\n",
       "<polygon fill=\"palegoldenrod\" stroke=\"none\" points=\"367.5,-279.5 367.5,-296.5 488.5,-296.5 488.5,-279.5 367.5,-279.5\"/>\r\n",
       "<text text-anchor=\"start\" x=\"414\" y=\"-286.1\" font-family=\"Helvetica Bold\" font-size=\"8.00\">Follow</text>\r\n",
       "<text text-anchor=\"start\" x=\"369.5\" y=\"-271.1\" font-family=\"Bitstream Vera Sans\" font-size=\"8.00\">★ followee_id</text>\r\n",
       "<text text-anchor=\"start\" x=\"446.5\" y=\"-271.1\" font-family=\"Bitstream Vera Sans\" font-size=\"8.00\">INTEGER</text>\r\n",
       "<text text-anchor=\"start\" x=\"369.5\" y=\"-258.1\" font-family=\"Bitstream Vera Sans\" font-size=\"8.00\">★ follower_id</text>\r\n",
       "<text text-anchor=\"start\" x=\"446.5\" y=\"-258.1\" font-family=\"Bitstream Vera Sans\" font-size=\"8.00\">INTEGER</text>\r\n",
       "<text text-anchor=\"start\" x=\"369.5\" y=\"-245.1\" font-family=\"Bitstream Vera Sans\" font-size=\"8.00\">⚪ created_at</text>\r\n",
       "<text text-anchor=\"start\" x=\"446.5\" y=\"-245.1\" font-family=\"Bitstream Vera Sans\" font-size=\"8.00\">DATETIME</text>\r\n",
       "<polygon fill=\"palegoldenrod\" stroke=\"none\" points=\"367.5,-227.5 367.5,-240.5 444.5,-240.5 444.5,-227.5 367.5,-227.5\"/>\r\n",
       "<text text-anchor=\"start\" x=\"369.5\" y=\"-232.1\" font-family=\"Bitstream Vera Sans\" font-size=\"8.00\">⚪ user_follower</text>\r\n",
       "<polygon fill=\"palegoldenrod\" stroke=\"none\" points=\"444.5,-227.5 444.5,-240.5 488.5,-240.5 488.5,-227.5 444.5,-227.5\"/>\r\n",
       "<text text-anchor=\"start\" x=\"446.5\" y=\"-232.1\" font-family=\"Bitstream Vera Sans\" font-size=\"8.00\">PROPERTY</text>\r\n",
       "<polygon fill=\"palegoldenrod\" stroke=\"none\" points=\"367.5,-214.5 367.5,-227.5 444.5,-227.5 444.5,-214.5 367.5,-214.5\"/>\r\n",
       "<text text-anchor=\"start\" x=\"369.5\" y=\"-219.1\" font-family=\"Bitstream Vera Sans\" font-size=\"8.00\">⚪ user_following</text>\r\n",
       "<polygon fill=\"palegoldenrod\" stroke=\"none\" points=\"444.5,-214.5 444.5,-227.5 488.5,-227.5 488.5,-214.5 444.5,-214.5\"/>\r\n",
       "<text text-anchor=\"start\" x=\"446.5\" y=\"-219.1\" font-family=\"Bitstream Vera Sans\" font-size=\"8.00\">PROPERTY</text>\r\n",
       "</g>\r\n",
       "<!-- Follow&#45;&gt;User -->\r\n",
       "<g id=\"edge6\" class=\"edge\"><title>Follow&#45;&gt;User</title>\r\n",
       "<path fill=\"none\" stroke=\"black\" d=\"M413.055,-210.337C406.546,-194.64 397.752,-177.526 386.5,-164 376.054,-151.443 363.22,-139.944 349.923,-129.793\"/>\r\n",
       "<polygon fill=\"none\" stroke=\"black\" points=\"349.859,-129.746 342.655,-129.419 340.186,-122.643 347.39,-122.97 349.859,-129.746\"/>\r\n",
       "<text text-anchor=\"middle\" x=\"413.5\" y=\"-166.6\" font-family=\"Bitstream Vera Sans\" font-size=\"8.00\">follower_id</text>\r\n",
       "</g>\r\n",
       "<!-- Follow&#45;&gt;User -->\r\n",
       "<g id=\"edge7\" class=\"edge\"><title>Follow&#45;&gt;User</title>\r\n",
       "<path fill=\"none\" stroke=\"black\" d=\"M378.568,-210.386C366.136,-198.574 353.039,-185.583 341.5,-173 336.424,-167.465 331.294,-161.615 326.235,-155.661\"/>\r\n",
       "<polygon fill=\"none\" stroke=\"black\" points=\"326.06,-155.452 319.142,-153.417 318.359,-146.248 325.277,-148.283 326.06,-155.452\"/>\r\n",
       "<text text-anchor=\"middle\" x=\"362\" y=\"-166.6\" font-family=\"Bitstream Vera Sans\" font-size=\"8.00\">followee_id</text>\r\n",
       "</g>\r\n",
       "<!-- Tag -->\r\n",
       "<g id=\"node6\" class=\"node\"><title>Tag</title>\r\n",
       "<polygon fill=\"lightyellow\" stroke=\"none\" points=\"522,-221 522,-290 647,-290 647,-221 522,-221\"/>\r\n",
       "<polygon fill=\"palegoldenrod\" stroke=\"none\" points=\"522.5,-272.5 522.5,-289.5 647.5,-289.5 647.5,-272.5 522.5,-272.5\"/>\r\n",
       "<text text-anchor=\"start\" x=\"577\" y=\"-279.1\" font-family=\"Helvetica Bold\" font-size=\"8.00\">Tag</text>\r\n",
       "<text text-anchor=\"start\" x=\"524.5\" y=\"-264.1\" font-family=\"Bitstream Vera Sans\" font-size=\"8.00\">★ id</text>\r\n",
       "<text text-anchor=\"start\" x=\"589.5\" y=\"-264.1\" font-family=\"Bitstream Vera Sans\" font-size=\"8.00\">INTEGER</text>\r\n",
       "<text text-anchor=\"start\" x=\"524.5\" y=\"-251.1\" font-family=\"Bitstream Vera Sans\" font-size=\"8.00\">⚪ created_at</text>\r\n",
       "<text text-anchor=\"start\" x=\"589.5\" y=\"-251.1\" font-family=\"Bitstream Vera Sans\" font-size=\"8.00\">DATETIME</text>\r\n",
       "<text text-anchor=\"start\" x=\"524.5\" y=\"-238.1\" font-family=\"Bitstream Vera Sans\" font-size=\"8.00\">⚪ tag_name</text>\r\n",
       "<text text-anchor=\"start\" x=\"589.5\" y=\"-238.1\" font-family=\"Bitstream Vera Sans\" font-size=\"8.00\">VARCHAR(255)</text>\r\n",
       "<polygon fill=\"palegoldenrod\" stroke=\"none\" points=\"522.5,-220.5 522.5,-233.5 587.5,-233.5 587.5,-220.5 522.5,-220.5\"/>\r\n",
       "<text text-anchor=\"start\" x=\"524.5\" y=\"-225.1\" font-family=\"Bitstream Vera Sans\" font-size=\"8.00\">⚪ photos</text>\r\n",
       "<polygon fill=\"palegoldenrod\" stroke=\"none\" points=\"587.5,-220.5 587.5,-233.5 647.5,-233.5 647.5,-220.5 587.5,-220.5\"/>\r\n",
       "<text text-anchor=\"start\" x=\"589.5\" y=\"-225.1\" font-family=\"Bitstream Vera Sans\" font-size=\"8.00\">PROPERTY</text>\r\n",
       "</g>\r\n",
       "<!-- Photo_tag -->\r\n",
       "<g id=\"node7\" class=\"node\"><title>Photo_tag</title>\r\n",
       "<polygon fill=\"lightyellow\" stroke=\"none\" points=\"426,-388.5 426,-457.5 547,-457.5 547,-388.5 426,-388.5\"/>\r\n",
       "<polygon fill=\"palegoldenrod\" stroke=\"none\" points=\"426.5,-440 426.5,-457 547.5,-457 547.5,-440 426.5,-440\"/>\r\n",
       "<text text-anchor=\"start\" x=\"466\" y=\"-446.6\" font-family=\"Helvetica Bold\" font-size=\"8.00\">Photo_tag</text>\r\n",
       "<text text-anchor=\"start\" x=\"428.5\" y=\"-431.6\" font-family=\"Bitstream Vera Sans\" font-size=\"8.00\">★ photo_id</text>\r\n",
       "<text text-anchor=\"start\" x=\"505.5\" y=\"-431.6\" font-family=\"Bitstream Vera Sans\" font-size=\"8.00\">INTEGER</text>\r\n",
       "<text text-anchor=\"start\" x=\"428.5\" y=\"-418.6\" font-family=\"Bitstream Vera Sans\" font-size=\"8.00\">★ tag_id</text>\r\n",
       "<text text-anchor=\"start\" x=\"505.5\" y=\"-418.6\" font-family=\"Bitstream Vera Sans\" font-size=\"8.00\">INTEGER</text>\r\n",
       "<polygon fill=\"palegoldenrod\" stroke=\"none\" points=\"426.5,-401 426.5,-414 503.5,-414 503.5,-401 426.5,-401\"/>\r\n",
       "<text text-anchor=\"start\" x=\"428.5\" y=\"-405.6\" font-family=\"Bitstream Vera Sans\" font-size=\"8.00\">⚪ photo_photag</text>\r\n",
       "<polygon fill=\"palegoldenrod\" stroke=\"none\" points=\"503.5,-401 503.5,-414 547.5,-414 547.5,-401 503.5,-401\"/>\r\n",
       "<text text-anchor=\"start\" x=\"505.5\" y=\"-405.6\" font-family=\"Bitstream Vera Sans\" font-size=\"8.00\">PROPERTY</text>\r\n",
       "<polygon fill=\"palegoldenrod\" stroke=\"none\" points=\"426.5,-388 426.5,-401 503.5,-401 503.5,-388 426.5,-388\"/>\r\n",
       "<text text-anchor=\"start\" x=\"428.5\" y=\"-392.6\" font-family=\"Bitstream Vera Sans\" font-size=\"8.00\">⚪ tag_photag</text>\r\n",
       "<polygon fill=\"palegoldenrod\" stroke=\"none\" points=\"503.5,-388 503.5,-401 547.5,-401 547.5,-388 503.5,-388\"/>\r\n",
       "<text text-anchor=\"start\" x=\"505.5\" y=\"-392.6\" font-family=\"Bitstream Vera Sans\" font-size=\"8.00\">PROPERTY</text>\r\n",
       "</g>\r\n",
       "<!-- Photo_tag&#45;&gt;Photo -->\r\n",
       "<g id=\"edge8\" class=\"edge\"><title>Photo_tag&#45;&gt;Photo</title>\r\n",
       "<path fill=\"none\" stroke=\"black\" d=\"M435.147,-384.349C411.631,-366.974 383.244,-345.813 351.027,-321.134\"/>\r\n",
       "<polygon fill=\"none\" stroke=\"black\" points=\"350.894,-321.031 343.698,-320.549 341.376,-313.722 348.571,-314.204 350.894,-321.031\"/>\r\n",
       "<text text-anchor=\"middle\" x=\"399.5\" y=\"-340.6\" font-family=\"Bitstream Vera Sans\" font-size=\"8.00\">photo_id</text>\r\n",
       "</g>\r\n",
       "<!-- Photo_tag&#45;&gt;Tag -->\r\n",
       "<g id=\"edge9\" class=\"edge\"><title>Photo_tag&#45;&gt;Tag</title>\r\n",
       "<path fill=\"none\" stroke=\"black\" d=\"M508.738,-384.445C522.722,-360.829 540.901,-330.129 555.946,-304.721\"/>\r\n",
       "<polygon fill=\"none\" stroke=\"black\" points=\"556.067,-304.518 555.682,-297.317 562.181,-294.192 562.566,-301.393 556.067,-304.518\"/>\r\n",
       "<text text-anchor=\"middle\" x=\"547\" y=\"-340.6\" font-family=\"Bitstream Vera Sans\" font-size=\"8.00\">tag_id</text>\r\n",
       "</g>\r\n",
       "</g>\r\n",
       "</svg>\r\n"
      ],
      "text/plain": [
       "<graphviz.files.Source at 0xe1b5f60>"
      ]
     },
     "execution_count": 180,
     "metadata": {},
     "output_type": "execute_result"
    }
   ],
   "source": [
    "desc = sadisplay.describe(globals().values())\n",
    "\n",
    "with codecs.open('schema.dot', 'w', encoding='utf-8') as f:\n",
    "    f.write(sadisplay.dot(desc))\n",
    "    \n",
    "Source.from_file('schema.dot', format='png', encoding='utf-8')"
   ]
  },
  {
   "cell_type": "markdown",
   "metadata": {},
   "source": [
    "### Tables view"
   ]
  },
  {
   "cell_type": "code",
   "execution_count": 181,
   "metadata": {
    "ExecuteTime": {
     "end_time": "2019-11-11T14:44:28.083563Z",
     "start_time": "2019-11-11T14:44:27.651563Z"
    }
   },
   "outputs": [],
   "source": [
    "users = pd.read_sql('users', con = engine)\n",
    "photos = pd.read_sql('photos', con = engine)\n",
    "comments = pd.read_sql('comments', con = engine)\n",
    "likes = pd.read_sql('likes', con = engine)\n",
    "follows = pd.read_sql('follows', con = engine)\n",
    "tags = pd.read_sql('tags', con = engine)"
   ]
  },
  {
   "cell_type": "code",
   "execution_count": 182,
   "metadata": {
    "ExecuteTime": {
     "end_time": "2019-11-11T14:44:28.399563Z",
     "start_time": "2019-11-11T14:44:28.357563Z"
    }
   },
   "outputs": [
    {
     "data": {
      "text/html": [
       "<div>\n",
       "<style scoped>\n",
       "    .dataframe tbody tr th:only-of-type {\n",
       "        vertical-align: middle;\n",
       "    }\n",
       "\n",
       "    .dataframe tbody tr th {\n",
       "        vertical-align: top;\n",
       "    }\n",
       "\n",
       "    .dataframe thead th {\n",
       "        text-align: right;\n",
       "    }\n",
       "</style>\n",
       "<table border=\"1\" class=\"dataframe\">\n",
       "  <thead>\n",
       "    <tr style=\"text-align: right;\">\n",
       "      <th></th>\n",
       "      <th>id</th>\n",
       "      <th>username</th>\n",
       "      <th>created_at</th>\n",
       "    </tr>\n",
       "  </thead>\n",
       "  <tbody>\n",
       "    <tr>\n",
       "      <th>0</th>\n",
       "      <td>1</td>\n",
       "      <td>Kenton_Kirlin</td>\n",
       "      <td>2017-02-16 18:22:10.000846</td>\n",
       "    </tr>\n",
       "    <tr>\n",
       "      <th>1</th>\n",
       "      <td>2</td>\n",
       "      <td>Andre_Purdy85</td>\n",
       "      <td>2017-04-02 17:11:21.000417</td>\n",
       "    </tr>\n",
       "    <tr>\n",
       "      <th>2</th>\n",
       "      <td>3</td>\n",
       "      <td>Harley_Lind18</td>\n",
       "      <td>2017-02-21 11:12:32.000574</td>\n",
       "    </tr>\n",
       "    <tr>\n",
       "      <th>3</th>\n",
       "      <td>4</td>\n",
       "      <td>Arely_Bogan63</td>\n",
       "      <td>2016-08-13 01:28:43.000085</td>\n",
       "    </tr>\n",
       "    <tr>\n",
       "      <th>4</th>\n",
       "      <td>5</td>\n",
       "      <td>Aniya_Hackett</td>\n",
       "      <td>2016-12-07 01:04:39.000298</td>\n",
       "    </tr>\n",
       "  </tbody>\n",
       "</table>\n",
       "</div>"
      ],
      "text/plain": [
       "   id       username                 created_at\n",
       "0   1  Kenton_Kirlin 2017-02-16 18:22:10.000846\n",
       "1   2  Andre_Purdy85 2017-04-02 17:11:21.000417\n",
       "2   3  Harley_Lind18 2017-02-21 11:12:32.000574\n",
       "3   4  Arely_Bogan63 2016-08-13 01:28:43.000085\n",
       "4   5  Aniya_Hackett 2016-12-07 01:04:39.000298"
      ]
     },
     "metadata": {},
     "output_type": "display_data"
    },
    {
     "data": {
      "text/html": [
       "<div>\n",
       "<style scoped>\n",
       "    .dataframe tbody tr th:only-of-type {\n",
       "        vertical-align: middle;\n",
       "    }\n",
       "\n",
       "    .dataframe tbody tr th {\n",
       "        vertical-align: top;\n",
       "    }\n",
       "\n",
       "    .dataframe thead th {\n",
       "        text-align: right;\n",
       "    }\n",
       "</style>\n",
       "<table border=\"1\" class=\"dataframe\">\n",
       "  <thead>\n",
       "    <tr style=\"text-align: right;\">\n",
       "      <th></th>\n",
       "      <th>id</th>\n",
       "      <th>image_url</th>\n",
       "      <th>created_at</th>\n",
       "      <th>user_id</th>\n",
       "    </tr>\n",
       "  </thead>\n",
       "  <tbody>\n",
       "    <tr>\n",
       "      <th>0</th>\n",
       "      <td>1</td>\n",
       "      <td>http://elijah.biz</td>\n",
       "      <td>2019-11-11 14:43:37</td>\n",
       "      <td>1</td>\n",
       "    </tr>\n",
       "    <tr>\n",
       "      <th>1</th>\n",
       "      <td>2</td>\n",
       "      <td>https://shanon.org</td>\n",
       "      <td>2019-11-11 14:43:37</td>\n",
       "      <td>1</td>\n",
       "    </tr>\n",
       "    <tr>\n",
       "      <th>2</th>\n",
       "      <td>3</td>\n",
       "      <td>http://vicky.biz</td>\n",
       "      <td>2019-11-11 14:43:37</td>\n",
       "      <td>1</td>\n",
       "    </tr>\n",
       "    <tr>\n",
       "      <th>3</th>\n",
       "      <td>4</td>\n",
       "      <td>http://oleta.net</td>\n",
       "      <td>2019-11-11 14:43:37</td>\n",
       "      <td>1</td>\n",
       "    </tr>\n",
       "    <tr>\n",
       "      <th>4</th>\n",
       "      <td>5</td>\n",
       "      <td>https://jennings.biz</td>\n",
       "      <td>2019-11-11 14:43:37</td>\n",
       "      <td>1</td>\n",
       "    </tr>\n",
       "  </tbody>\n",
       "</table>\n",
       "</div>"
      ],
      "text/plain": [
       "   id             image_url          created_at  user_id\n",
       "0   1     http://elijah.biz 2019-11-11 14:43:37        1\n",
       "1   2    https://shanon.org 2019-11-11 14:43:37        1\n",
       "2   3      http://vicky.biz 2019-11-11 14:43:37        1\n",
       "3   4      http://oleta.net 2019-11-11 14:43:37        1\n",
       "4   5  https://jennings.biz 2019-11-11 14:43:37        1"
      ]
     },
     "metadata": {},
     "output_type": "display_data"
    },
    {
     "data": {
      "text/html": [
       "<div>\n",
       "<style scoped>\n",
       "    .dataframe tbody tr th:only-of-type {\n",
       "        vertical-align: middle;\n",
       "    }\n",
       "\n",
       "    .dataframe tbody tr th {\n",
       "        vertical-align: top;\n",
       "    }\n",
       "\n",
       "    .dataframe thead th {\n",
       "        text-align: right;\n",
       "    }\n",
       "</style>\n",
       "<table border=\"1\" class=\"dataframe\">\n",
       "  <thead>\n",
       "    <tr style=\"text-align: right;\">\n",
       "      <th></th>\n",
       "      <th>id</th>\n",
       "      <th>comment_text</th>\n",
       "      <th>created_at</th>\n",
       "      <th>user_id</th>\n",
       "      <th>photo_id</th>\n",
       "    </tr>\n",
       "  </thead>\n",
       "  <tbody>\n",
       "    <tr>\n",
       "      <th>0</th>\n",
       "      <td>1</td>\n",
       "      <td>unde at dolorem</td>\n",
       "      <td>2019-11-11 14:43:37</td>\n",
       "      <td>2</td>\n",
       "      <td>1</td>\n",
       "    </tr>\n",
       "    <tr>\n",
       "      <th>1</th>\n",
       "      <td>2</td>\n",
       "      <td>quae ea ducimus</td>\n",
       "      <td>2019-11-11 14:43:37</td>\n",
       "      <td>3</td>\n",
       "      <td>1</td>\n",
       "    </tr>\n",
       "    <tr>\n",
       "      <th>2</th>\n",
       "      <td>3</td>\n",
       "      <td>alias a voluptatum</td>\n",
       "      <td>2019-11-11 14:43:37</td>\n",
       "      <td>5</td>\n",
       "      <td>1</td>\n",
       "    </tr>\n",
       "    <tr>\n",
       "      <th>3</th>\n",
       "      <td>4</td>\n",
       "      <td>facere suscipit sunt</td>\n",
       "      <td>2019-11-11 14:43:37</td>\n",
       "      <td>14</td>\n",
       "      <td>1</td>\n",
       "    </tr>\n",
       "    <tr>\n",
       "      <th>4</th>\n",
       "      <td>5</td>\n",
       "      <td>totam eligendi quaerat</td>\n",
       "      <td>2019-11-11 14:43:37</td>\n",
       "      <td>17</td>\n",
       "      <td>1</td>\n",
       "    </tr>\n",
       "  </tbody>\n",
       "</table>\n",
       "</div>"
      ],
      "text/plain": [
       "   id            comment_text          created_at  user_id  photo_id\n",
       "0   1         unde at dolorem 2019-11-11 14:43:37        2         1\n",
       "1   2         quae ea ducimus 2019-11-11 14:43:37        3         1\n",
       "2   3      alias a voluptatum 2019-11-11 14:43:37        5         1\n",
       "3   4    facere suscipit sunt 2019-11-11 14:43:37       14         1\n",
       "4   5  totam eligendi quaerat 2019-11-11 14:43:37       17         1"
      ]
     },
     "metadata": {},
     "output_type": "display_data"
    },
    {
     "data": {
      "text/html": [
       "<div>\n",
       "<style scoped>\n",
       "    .dataframe tbody tr th:only-of-type {\n",
       "        vertical-align: middle;\n",
       "    }\n",
       "\n",
       "    .dataframe tbody tr th {\n",
       "        vertical-align: top;\n",
       "    }\n",
       "\n",
       "    .dataframe thead th {\n",
       "        text-align: right;\n",
       "    }\n",
       "</style>\n",
       "<table border=\"1\" class=\"dataframe\">\n",
       "  <thead>\n",
       "    <tr style=\"text-align: right;\">\n",
       "      <th></th>\n",
       "      <th>created_at</th>\n",
       "      <th>user_id</th>\n",
       "      <th>photo_id</th>\n",
       "    </tr>\n",
       "  </thead>\n",
       "  <tbody>\n",
       "    <tr>\n",
       "      <th>0</th>\n",
       "      <td>2019-11-11 14:43:38</td>\n",
       "      <td>2</td>\n",
       "      <td>1</td>\n",
       "    </tr>\n",
       "    <tr>\n",
       "      <th>1</th>\n",
       "      <td>2019-11-11 14:43:38</td>\n",
       "      <td>5</td>\n",
       "      <td>1</td>\n",
       "    </tr>\n",
       "    <tr>\n",
       "      <th>2</th>\n",
       "      <td>2019-11-11 14:43:38</td>\n",
       "      <td>9</td>\n",
       "      <td>1</td>\n",
       "    </tr>\n",
       "    <tr>\n",
       "      <th>3</th>\n",
       "      <td>2019-11-11 14:43:38</td>\n",
       "      <td>10</td>\n",
       "      <td>1</td>\n",
       "    </tr>\n",
       "    <tr>\n",
       "      <th>4</th>\n",
       "      <td>2019-11-11 14:43:38</td>\n",
       "      <td>11</td>\n",
       "      <td>1</td>\n",
       "    </tr>\n",
       "  </tbody>\n",
       "</table>\n",
       "</div>"
      ],
      "text/plain": [
       "           created_at  user_id  photo_id\n",
       "0 2019-11-11 14:43:38        2         1\n",
       "1 2019-11-11 14:43:38        5         1\n",
       "2 2019-11-11 14:43:38        9         1\n",
       "3 2019-11-11 14:43:38       10         1\n",
       "4 2019-11-11 14:43:38       11         1"
      ]
     },
     "metadata": {},
     "output_type": "display_data"
    },
    {
     "data": {
      "text/html": [
       "<div>\n",
       "<style scoped>\n",
       "    .dataframe tbody tr th:only-of-type {\n",
       "        vertical-align: middle;\n",
       "    }\n",
       "\n",
       "    .dataframe tbody tr th {\n",
       "        vertical-align: top;\n",
       "    }\n",
       "\n",
       "    .dataframe thead th {\n",
       "        text-align: right;\n",
       "    }\n",
       "</style>\n",
       "<table border=\"1\" class=\"dataframe\">\n",
       "  <thead>\n",
       "    <tr style=\"text-align: right;\">\n",
       "      <th></th>\n",
       "      <th>follower_id</th>\n",
       "      <th>followee_id</th>\n",
       "      <th>created_at</th>\n",
       "    </tr>\n",
       "  </thead>\n",
       "  <tbody>\n",
       "    <tr>\n",
       "      <th>0</th>\n",
       "      <td>2</td>\n",
       "      <td>1</td>\n",
       "      <td>2019-11-11 14:43:37</td>\n",
       "    </tr>\n",
       "    <tr>\n",
       "      <th>1</th>\n",
       "      <td>2</td>\n",
       "      <td>3</td>\n",
       "      <td>2019-11-11 14:43:37</td>\n",
       "    </tr>\n",
       "    <tr>\n",
       "      <th>2</th>\n",
       "      <td>2</td>\n",
       "      <td>4</td>\n",
       "      <td>2019-11-11 14:43:37</td>\n",
       "    </tr>\n",
       "    <tr>\n",
       "      <th>3</th>\n",
       "      <td>2</td>\n",
       "      <td>5</td>\n",
       "      <td>2019-11-11 14:43:37</td>\n",
       "    </tr>\n",
       "    <tr>\n",
       "      <th>4</th>\n",
       "      <td>2</td>\n",
       "      <td>6</td>\n",
       "      <td>2019-11-11 14:43:37</td>\n",
       "    </tr>\n",
       "  </tbody>\n",
       "</table>\n",
       "</div>"
      ],
      "text/plain": [
       "   follower_id  followee_id          created_at\n",
       "0            2            1 2019-11-11 14:43:37\n",
       "1            2            3 2019-11-11 14:43:37\n",
       "2            2            4 2019-11-11 14:43:37\n",
       "3            2            5 2019-11-11 14:43:37\n",
       "4            2            6 2019-11-11 14:43:37"
      ]
     },
     "metadata": {},
     "output_type": "display_data"
    },
    {
     "data": {
      "text/html": [
       "<div>\n",
       "<style scoped>\n",
       "    .dataframe tbody tr th:only-of-type {\n",
       "        vertical-align: middle;\n",
       "    }\n",
       "\n",
       "    .dataframe tbody tr th {\n",
       "        vertical-align: top;\n",
       "    }\n",
       "\n",
       "    .dataframe thead th {\n",
       "        text-align: right;\n",
       "    }\n",
       "</style>\n",
       "<table border=\"1\" class=\"dataframe\">\n",
       "  <thead>\n",
       "    <tr style=\"text-align: right;\">\n",
       "      <th></th>\n",
       "      <th>id</th>\n",
       "      <th>tag_name</th>\n",
       "      <th>created_at</th>\n",
       "    </tr>\n",
       "  </thead>\n",
       "  <tbody>\n",
       "    <tr>\n",
       "      <th>0</th>\n",
       "      <td>1</td>\n",
       "      <td>sunset</td>\n",
       "      <td>2019-11-11 14:43:38</td>\n",
       "    </tr>\n",
       "    <tr>\n",
       "      <th>1</th>\n",
       "      <td>2</td>\n",
       "      <td>photography</td>\n",
       "      <td>2019-11-11 14:43:38</td>\n",
       "    </tr>\n",
       "    <tr>\n",
       "      <th>2</th>\n",
       "      <td>3</td>\n",
       "      <td>sunrise</td>\n",
       "      <td>2019-11-11 14:43:38</td>\n",
       "    </tr>\n",
       "    <tr>\n",
       "      <th>3</th>\n",
       "      <td>4</td>\n",
       "      <td>landscape</td>\n",
       "      <td>2019-11-11 14:43:38</td>\n",
       "    </tr>\n",
       "    <tr>\n",
       "      <th>4</th>\n",
       "      <td>5</td>\n",
       "      <td>food</td>\n",
       "      <td>2019-11-11 14:43:38</td>\n",
       "    </tr>\n",
       "  </tbody>\n",
       "</table>\n",
       "</div>"
      ],
      "text/plain": [
       "   id     tag_name          created_at\n",
       "0   1       sunset 2019-11-11 14:43:38\n",
       "1   2  photography 2019-11-11 14:43:38\n",
       "2   3      sunrise 2019-11-11 14:43:38\n",
       "3   4    landscape 2019-11-11 14:43:38\n",
       "4   5         food 2019-11-11 14:43:38"
      ]
     },
     "metadata": {},
     "output_type": "display_data"
    }
   ],
   "source": [
    "display(users.head())\n",
    "display(photos.head())\n",
    "display(comments.head())\n",
    "display(likes.head())\n",
    "display(follows.head())\n",
    "display(tags.head())"
   ]
  },
  {
   "cell_type": "markdown",
   "metadata": {},
   "source": [
    "## Challenges (SQL like + SQL-Pandas like + ORM like)"
   ]
  },
  {
   "cell_type": "markdown",
   "metadata": {},
   "source": [
    "### Challenge 1 - Find the 5 oldest users"
   ]
  },
  {
   "cell_type": "code",
   "execution_count": 183,
   "metadata": {
    "ExecuteTime": {
     "end_time": "2019-11-11T14:44:39.019563Z",
     "start_time": "2019-11-11T14:44:39.005563Z"
    }
   },
   "outputs": [
    {
     "name": "stdout",
     "output_type": "stream",
     "text": [
      "Created_at:  2016-05-06 00:14:21.191  - Username:  Darby_Herzog\n",
      "Created_at:  2016-05-06 13:04:29.960  - Username:  Emilio_Bernier52\n",
      "Created_at:  2016-05-08 01:30:40.677  - Username:  Elenor88\n",
      "Created_at:  2016-05-09 17:30:22.371  - Username:  Nicole71\n",
      "Created_at:  2016-05-14 07:56:25.835  - Username:  Jordyn.Jacobson2\n"
     ]
    }
   ],
   "source": [
    "# SQL like\n",
    "statement_1 = text(\"\"\"SELECT * FROM users\n",
    "                 ORDER BY created_at \n",
    "                 LIMIT 5\"\"\")\n",
    "with engine.connect() as con:\n",
    "    rs = con.execute(statement_1)\n",
    "    \n",
    "    for row in rs:\n",
    "        print('Created_at: ', row[2], ' - Username: ', row[1])"
   ]
  },
  {
   "cell_type": "code",
   "execution_count": 184,
   "metadata": {
    "ExecuteTime": {
     "end_time": "2019-11-11T14:44:39.706563Z",
     "start_time": "2019-11-11T14:44:39.659563Z"
    }
   },
   "outputs": [
    {
     "data": {
      "text/html": [
       "<div>\n",
       "<style scoped>\n",
       "    .dataframe tbody tr th:only-of-type {\n",
       "        vertical-align: middle;\n",
       "    }\n",
       "\n",
       "    .dataframe tbody tr th {\n",
       "        vertical-align: top;\n",
       "    }\n",
       "\n",
       "    .dataframe thead th {\n",
       "        text-align: right;\n",
       "    }\n",
       "</style>\n",
       "<table border=\"1\" class=\"dataframe\">\n",
       "  <thead>\n",
       "    <tr style=\"text-align: right;\">\n",
       "      <th></th>\n",
       "      <th>username</th>\n",
       "      <th>created_at</th>\n",
       "    </tr>\n",
       "  </thead>\n",
       "  <tbody>\n",
       "    <tr>\n",
       "      <th>79</th>\n",
       "      <td>Darby_Herzog</td>\n",
       "      <td>2016-05-06 00:14:21.000191</td>\n",
       "    </tr>\n",
       "    <tr>\n",
       "      <th>66</th>\n",
       "      <td>Emilio_Bernier52</td>\n",
       "      <td>2016-05-06 13:04:29.000960</td>\n",
       "    </tr>\n",
       "    <tr>\n",
       "      <th>62</th>\n",
       "      <td>Elenor88</td>\n",
       "      <td>2016-05-08 01:30:40.000677</td>\n",
       "    </tr>\n",
       "    <tr>\n",
       "      <th>94</th>\n",
       "      <td>Nicole71</td>\n",
       "      <td>2016-05-09 17:30:22.000371</td>\n",
       "    </tr>\n",
       "    <tr>\n",
       "      <th>37</th>\n",
       "      <td>Jordyn.Jacobson2</td>\n",
       "      <td>2016-05-14 07:56:25.000835</td>\n",
       "    </tr>\n",
       "  </tbody>\n",
       "</table>\n",
       "</div>"
      ],
      "text/plain": [
       "            username                 created_at\n",
       "79      Darby_Herzog 2016-05-06 00:14:21.000191\n",
       "66  Emilio_Bernier52 2016-05-06 13:04:29.000960\n",
       "62          Elenor88 2016-05-08 01:30:40.000677\n",
       "94          Nicole71 2016-05-09 17:30:22.000371\n",
       "37  Jordyn.Jacobson2 2016-05-14 07:56:25.000835"
      ]
     },
     "execution_count": 184,
     "metadata": {},
     "output_type": "execute_result"
    }
   ],
   "source": [
    "# PANDAS like\n",
    "oldest_users_df = pd.read_sql('users', con = engine).sort_values(by = 'created_at')[:5]\n",
    "oldest_users_df[['username', 'created_at']]"
   ]
  },
  {
   "cell_type": "code",
   "execution_count": 185,
   "metadata": {
    "ExecuteTime": {
     "end_time": "2019-11-11T14:44:41.185563Z",
     "start_time": "2019-11-11T14:44:41.175563Z"
    }
   },
   "outputs": [
    {
     "name": "stdout",
     "output_type": "stream",
     "text": [
      "Created at:  2016-05-06 00:14:21.000191  - Username: Darby_Herzog\n",
      "Created at:  2016-05-06 13:04:29.000960  - Username: Emilio_Bernier52\n",
      "Created at:  2016-05-08 01:30:40.000677  - Username: Elenor88\n",
      "Created at:  2016-05-09 17:30:22.000371  - Username: Nicole71\n",
      "Created at:  2016-05-14 07:56:25.000835  - Username: Jordyn.Jacobson2\n"
     ]
    }
   ],
   "source": [
    "# ORM like\n",
    "session = Session(bind=engine)\n",
    "oldest_users_orm = session.query(User).order_by('created_at')[:5]\n",
    "\n",
    "for user in oldest_users_orm:\n",
    "    print('Created at: ', user.created_at, ' - Username:', user.username)"
   ]
  },
  {
   "cell_type": "markdown",
   "metadata": {},
   "source": [
    "### Challenge 2. What day of the week do most users registor on?"
   ]
  },
  {
   "cell_type": "code",
   "execution_count": 186,
   "metadata": {
    "ExecuteTime": {
     "end_time": "2019-11-11T14:44:42.204563Z",
     "start_time": "2019-11-11T14:44:42.200563Z"
    }
   },
   "outputs": [],
   "source": [
    "week_days = ['Sunday','Monday','Tuesday','Wednesday','Thursday','Friday','Saturday']"
   ]
  },
  {
   "cell_type": "code",
   "execution_count": 187,
   "metadata": {
    "ExecuteTime": {
     "end_time": "2019-11-11T14:44:42.646563Z",
     "start_time": "2019-11-11T14:44:42.638563Z"
    }
   },
   "outputs": [
    {
     "name": "stdout",
     "output_type": "stream",
     "text": [
      "('0', 16)\n",
      "('4', 16)\n",
      "('5', 15)\n",
      "('1', 14)\n",
      "('2', 14)\n",
      "('3', 13)\n",
      "('6', 12)\n",
      "\n",
      "***** Users register the most on Saturdays\n"
     ]
    }
   ],
   "source": [
    "# SQL like\n",
    "statement_2 = text(\"\"\"SELECT \n",
    "                        strftime('%w', created_at) AS day, \n",
    "                        COUNT(*) AS day_freq \n",
    "                    FROM users \n",
    "                    GROUP BY day \n",
    "                    ORDER BY day_freq DESC\"\"\")\n",
    "with engine.connect() as con:\n",
    "    rs = con.execute(statement_2)\n",
    "    \n",
    "    for row in rs:\n",
    "        print(row)\n",
    "    print('\\n***** Users register the most on ' + str(week_days[int(row[0])]) + 's')"
   ]
  },
  {
   "cell_type": "code",
   "execution_count": 188,
   "metadata": {
    "ExecuteTime": {
     "end_time": "2019-11-11T14:44:43.128563Z",
     "start_time": "2019-11-11T14:44:43.108563Z"
    }
   },
   "outputs": [
    {
     "data": {
      "text/html": [
       "<div>\n",
       "<style scoped>\n",
       "    .dataframe tbody tr th:only-of-type {\n",
       "        vertical-align: middle;\n",
       "    }\n",
       "\n",
       "    .dataframe tbody tr th {\n",
       "        vertical-align: top;\n",
       "    }\n",
       "\n",
       "    .dataframe thead th {\n",
       "        text-align: right;\n",
       "    }\n",
       "</style>\n",
       "<table border=\"1\" class=\"dataframe\">\n",
       "  <thead>\n",
       "    <tr style=\"text-align: right;\">\n",
       "      <th></th>\n",
       "      <th>day</th>\n",
       "      <th>day_freq</th>\n",
       "    </tr>\n",
       "  </thead>\n",
       "  <tbody>\n",
       "    <tr>\n",
       "      <th>0</th>\n",
       "      <td>0</td>\n",
       "      <td>16</td>\n",
       "    </tr>\n",
       "    <tr>\n",
       "      <th>1</th>\n",
       "      <td>4</td>\n",
       "      <td>16</td>\n",
       "    </tr>\n",
       "    <tr>\n",
       "      <th>2</th>\n",
       "      <td>5</td>\n",
       "      <td>15</td>\n",
       "    </tr>\n",
       "    <tr>\n",
       "      <th>3</th>\n",
       "      <td>1</td>\n",
       "      <td>14</td>\n",
       "    </tr>\n",
       "    <tr>\n",
       "      <th>4</th>\n",
       "      <td>2</td>\n",
       "      <td>14</td>\n",
       "    </tr>\n",
       "    <tr>\n",
       "      <th>5</th>\n",
       "      <td>3</td>\n",
       "      <td>13</td>\n",
       "    </tr>\n",
       "    <tr>\n",
       "      <th>6</th>\n",
       "      <td>6</td>\n",
       "      <td>12</td>\n",
       "    </tr>\n",
       "  </tbody>\n",
       "</table>\n",
       "</div>"
      ],
      "text/plain": [
       "  day  day_freq\n",
       "0   0        16\n",
       "1   4        16\n",
       "2   5        15\n",
       "3   1        14\n",
       "4   2        14\n",
       "5   3        13\n",
       "6   6        12"
      ]
     },
     "metadata": {},
     "output_type": "display_data"
    },
    {
     "name": "stdout",
     "output_type": "stream",
     "text": [
      "\n",
      "***** Users register the most on Sundays\n"
     ]
    }
   ],
   "source": [
    "# Pandas like\n",
    "df_weekday = pd.read_sql_query(\"\"\"SELECT \n",
    "                            strftime('%w', created_at) AS day, \n",
    "                            COUNT(*) AS day_freq \n",
    "                        FROM users \n",
    "                        GROUP BY day \n",
    "                        ORDER BY day_freq DESC\"\"\", con =engine)\n",
    "display(df_weekday)\n",
    "\n",
    "print('\\n***** Users register the most on ' + str(week_days[int(df_weekday.iloc[0,0])]) + 's')"
   ]
  },
  {
   "cell_type": "code",
   "execution_count": 189,
   "metadata": {
    "ExecuteTime": {
     "end_time": "2019-11-11T14:44:43.525563Z",
     "start_time": "2019-11-11T14:44:43.518563Z"
    }
   },
   "outputs": [
    {
     "name": "stdout",
     "output_type": "stream",
     "text": [
      "[('0', 16), ('4', 16), ('5', 15), ('1', 14), ('2', 14), ('3', 13), ('6', 12)]\n",
      "\n",
      "***** Users register the most on Sundays\n"
     ]
    }
   ],
   "source": [
    "# ORM like\n",
    "session = Session(bind=engine)\n",
    "query = session.query(func.strftime('%w',User.created_at), \n",
    "                      func.count(User.created_at)).\\\n",
    "            group_by(func.strftime('%w',User.created_at)).\\\n",
    "            order_by(func.count(User.created_at).desc()).all()\n",
    "print(query)\n",
    "print('\\n***** Users register the most on ' + str(week_days[int(query[0][0])]) + 's')"
   ]
  },
  {
   "cell_type": "markdown",
   "metadata": {},
   "source": [
    "### Challenge 3. Find users who have never posted a photo"
   ]
  },
  {
   "cell_type": "code",
   "execution_count": 190,
   "metadata": {
    "ExecuteTime": {
     "end_time": "2019-11-11T14:44:44.367563Z",
     "start_time": "2019-11-11T14:44:44.348563Z"
    }
   },
   "outputs": [
    {
     "name": "stdout",
     "output_type": "stream",
     "text": [
      "Users who have never posted a photo:\n",
      "\n",
      "\tAniya_Hackett\n",
      "\tKasandra_Homenick\n",
      "\tJaclyn81\n",
      "\tRocio33\n",
      "\tMaxwell.Halvorson\n",
      "\tTierra.Trantow\n",
      "\tPearl7\n",
      "\tOllie_Ledner37\n",
      "\tMckenna17\n",
      "\tDavid.Osinski47\n",
      "\tMorgan.Kassulke\n",
      "\tLinnea59\n",
      "\tDuane60\n",
      "\tJulien_Schmidt\n",
      "\tMike.Auer39\n",
      "\tFranco_Keebler64\n",
      "\tNia_Haag\n",
      "\tHulda.Macejkovic\n",
      "\tLeslie67\n",
      "\tJanelle.Nikolaus81\n",
      "\tDarby_Herzog\n",
      "\tEsther.Zulauf61\n",
      "\tBartholome.Bernhard\n",
      "\tJessyca_West\n",
      "\tEsmeralda.Mraz57\n",
      "\tBethany20\n"
     ]
    }
   ],
   "source": [
    "# SQL like\n",
    "statement_3 = text(\"\"\"SELECT \n",
    "                        username\n",
    "                    FROM users\n",
    "                    LEFT JOIN photos\n",
    "                        ON users.id = photos.user_id\n",
    "                    WHERE photos.id IS NULL\"\"\")\n",
    "\n",
    "print('Users who have never posted a photo:\\n')\n",
    "with engine.connect() as con:\n",
    "    rs = con.execute(statement_3)\n",
    "    \n",
    "    for row in rs:\n",
    "        print('\\t'+row[0])"
   ]
  },
  {
   "cell_type": "code",
   "execution_count": 191,
   "metadata": {
    "ExecuteTime": {
     "end_time": "2019-11-11T14:44:44.746563Z",
     "start_time": "2019-11-11T14:44:44.729563Z"
    },
    "scrolled": true
   },
   "outputs": [
    {
     "data": {
      "text/html": [
       "<div>\n",
       "<style scoped>\n",
       "    .dataframe tbody tr th:only-of-type {\n",
       "        vertical-align: middle;\n",
       "    }\n",
       "\n",
       "    .dataframe tbody tr th {\n",
       "        vertical-align: top;\n",
       "    }\n",
       "\n",
       "    .dataframe thead th {\n",
       "        text-align: right;\n",
       "    }\n",
       "</style>\n",
       "<table border=\"1\" class=\"dataframe\">\n",
       "  <thead>\n",
       "    <tr style=\"text-align: right;\">\n",
       "      <th></th>\n",
       "      <th>username</th>\n",
       "    </tr>\n",
       "  </thead>\n",
       "  <tbody>\n",
       "    <tr>\n",
       "      <th>0</th>\n",
       "      <td>Aniya_Hackett</td>\n",
       "    </tr>\n",
       "    <tr>\n",
       "      <th>1</th>\n",
       "      <td>Kasandra_Homenick</td>\n",
       "    </tr>\n",
       "    <tr>\n",
       "      <th>2</th>\n",
       "      <td>Jaclyn81</td>\n",
       "    </tr>\n",
       "    <tr>\n",
       "      <th>3</th>\n",
       "      <td>Rocio33</td>\n",
       "    </tr>\n",
       "    <tr>\n",
       "      <th>4</th>\n",
       "      <td>Maxwell.Halvorson</td>\n",
       "    </tr>\n",
       "    <tr>\n",
       "      <th>5</th>\n",
       "      <td>Tierra.Trantow</td>\n",
       "    </tr>\n",
       "    <tr>\n",
       "      <th>6</th>\n",
       "      <td>Pearl7</td>\n",
       "    </tr>\n",
       "    <tr>\n",
       "      <th>7</th>\n",
       "      <td>Ollie_Ledner37</td>\n",
       "    </tr>\n",
       "    <tr>\n",
       "      <th>8</th>\n",
       "      <td>Mckenna17</td>\n",
       "    </tr>\n",
       "    <tr>\n",
       "      <th>9</th>\n",
       "      <td>David.Osinski47</td>\n",
       "    </tr>\n",
       "    <tr>\n",
       "      <th>10</th>\n",
       "      <td>Morgan.Kassulke</td>\n",
       "    </tr>\n",
       "    <tr>\n",
       "      <th>11</th>\n",
       "      <td>Linnea59</td>\n",
       "    </tr>\n",
       "    <tr>\n",
       "      <th>12</th>\n",
       "      <td>Duane60</td>\n",
       "    </tr>\n",
       "    <tr>\n",
       "      <th>13</th>\n",
       "      <td>Julien_Schmidt</td>\n",
       "    </tr>\n",
       "    <tr>\n",
       "      <th>14</th>\n",
       "      <td>Mike.Auer39</td>\n",
       "    </tr>\n",
       "    <tr>\n",
       "      <th>15</th>\n",
       "      <td>Franco_Keebler64</td>\n",
       "    </tr>\n",
       "    <tr>\n",
       "      <th>16</th>\n",
       "      <td>Nia_Haag</td>\n",
       "    </tr>\n",
       "    <tr>\n",
       "      <th>17</th>\n",
       "      <td>Hulda.Macejkovic</td>\n",
       "    </tr>\n",
       "    <tr>\n",
       "      <th>18</th>\n",
       "      <td>Leslie67</td>\n",
       "    </tr>\n",
       "    <tr>\n",
       "      <th>19</th>\n",
       "      <td>Janelle.Nikolaus81</td>\n",
       "    </tr>\n",
       "    <tr>\n",
       "      <th>20</th>\n",
       "      <td>Darby_Herzog</td>\n",
       "    </tr>\n",
       "    <tr>\n",
       "      <th>21</th>\n",
       "      <td>Esther.Zulauf61</td>\n",
       "    </tr>\n",
       "    <tr>\n",
       "      <th>22</th>\n",
       "      <td>Bartholome.Bernhard</td>\n",
       "    </tr>\n",
       "    <tr>\n",
       "      <th>23</th>\n",
       "      <td>Jessyca_West</td>\n",
       "    </tr>\n",
       "    <tr>\n",
       "      <th>24</th>\n",
       "      <td>Esmeralda.Mraz57</td>\n",
       "    </tr>\n",
       "    <tr>\n",
       "      <th>25</th>\n",
       "      <td>Bethany20</td>\n",
       "    </tr>\n",
       "  </tbody>\n",
       "</table>\n",
       "</div>"
      ],
      "text/plain": [
       "               username\n",
       "0         Aniya_Hackett\n",
       "1     Kasandra_Homenick\n",
       "2              Jaclyn81\n",
       "3               Rocio33\n",
       "4     Maxwell.Halvorson\n",
       "5        Tierra.Trantow\n",
       "6                Pearl7\n",
       "7        Ollie_Ledner37\n",
       "8             Mckenna17\n",
       "9       David.Osinski47\n",
       "10      Morgan.Kassulke\n",
       "11             Linnea59\n",
       "12              Duane60\n",
       "13       Julien_Schmidt\n",
       "14          Mike.Auer39\n",
       "15     Franco_Keebler64\n",
       "16             Nia_Haag\n",
       "17     Hulda.Macejkovic\n",
       "18             Leslie67\n",
       "19   Janelle.Nikolaus81\n",
       "20         Darby_Herzog\n",
       "21      Esther.Zulauf61\n",
       "22  Bartholome.Bernhard\n",
       "23         Jessyca_West\n",
       "24     Esmeralda.Mraz57\n",
       "25            Bethany20"
      ]
     },
     "execution_count": 191,
     "metadata": {},
     "output_type": "execute_result"
    }
   ],
   "source": [
    "# SQL-Pandas like\n",
    "df_user_no_photo = pd.read_sql(statement_3, con = engine)\n",
    "\n",
    "df_user_no_photo"
   ]
  },
  {
   "cell_type": "code",
   "execution_count": 192,
   "metadata": {
    "ExecuteTime": {
     "end_time": "2019-11-11T14:44:45.424563Z",
     "start_time": "2019-11-11T14:44:45.404563Z"
    },
    "scrolled": true
   },
   "outputs": [
    {
     "name": "stdout",
     "output_type": "stream",
     "text": [
      "Users who have never posted a photo:\n",
      "\n",
      "\tAniya_Hackett\n",
      "\tKasandra_Homenick\n",
      "\tJaclyn81\n",
      "\tRocio33\n",
      "\tMaxwell.Halvorson\n",
      "\tTierra.Trantow\n",
      "\tPearl7\n",
      "\tOllie_Ledner37\n",
      "\tMckenna17\n",
      "\tDavid.Osinski47\n",
      "\tMorgan.Kassulke\n",
      "\tLinnea59\n",
      "\tDuane60\n",
      "\tJulien_Schmidt\n",
      "\tMike.Auer39\n",
      "\tFranco_Keebler64\n",
      "\tNia_Haag\n",
      "\tHulda.Macejkovic\n",
      "\tLeslie67\n",
      "\tJanelle.Nikolaus81\n",
      "\tDarby_Herzog\n",
      "\tEsther.Zulauf61\n",
      "\tBartholome.Bernhard\n",
      "\tJessyca_West\n",
      "\tEsmeralda.Mraz57\n",
      "\tBethany20\n"
     ]
    }
   ],
   "source": [
    "# ORM like\n",
    "session = Session(bind=engine)\n",
    "query = session.query(User.username).\\\n",
    "                outerjoin(Photo).\\\n",
    "                filter(User.photos == None).\\\n",
    "                all()\n",
    "\n",
    "print('Users who have never posted a photo:\\n')\n",
    "for row in query:\n",
    "    print('\\t'+row[0])"
   ]
  },
  {
   "cell_type": "markdown",
   "metadata": {},
   "source": [
    "### Challenge 4. Who has the most likes on a single photo?"
   ]
  },
  {
   "cell_type": "code",
   "execution_count": 193,
   "metadata": {
    "ExecuteTime": {
     "end_time": "2019-11-11T14:44:46.653563Z",
     "start_time": "2019-11-11T14:44:46.626563Z"
    }
   },
   "outputs": [
    {
     "name": "stdout",
     "output_type": "stream",
     "text": [
      "Top 5 most liked photos: \n",
      "\n",
      "\tPhoto: https://jarret.name with 48 likes\n",
      "\tPhoto: https://celestine.name with 43 likes\n",
      "\tPhoto: https://dorcas.biz with 43 likes\n",
      "\tPhoto: http://shannon.org with 42 likes\n",
      "\tPhoto: http://kenny.com with 41 likes\n"
     ]
    }
   ],
   "source": [
    "# SQL like\n",
    "statement_4 = text(\"\"\"SELECT\n",
    "                        username,\n",
    "                        image_url,\n",
    "                        photo_id,\n",
    "                        COUNT(*) AS freq \n",
    "                    FROM likes\n",
    "                    LEFT JOIN photos\n",
    "                        ON photos.id = likes.photo_id\n",
    "                    LEFT JOIN users\n",
    "                        ON users.id = photos.user_id\n",
    "                    GROUP BY photo_id\n",
    "                    ORDER BY freq DESC\n",
    "                    LIMIT 5\"\"\")\n",
    "\n",
    "print('Top 5 most liked photos: \\n')\n",
    "with engine.connect() as con:\n",
    "    rs = con.execute(statement_4)\n",
    "\n",
    "    for row in rs:\n",
    "        print('\\tPhoto: ' + row[1] + ' with ' + str(row[3]) + ' likes')\n",
    "    "
   ]
  },
  {
   "cell_type": "code",
   "execution_count": 194,
   "metadata": {
    "ExecuteTime": {
     "end_time": "2019-11-11T14:44:47.527563Z",
     "start_time": "2019-11-11T14:44:47.493563Z"
    }
   },
   "outputs": [
    {
     "data": {
      "text/html": [
       "<div>\n",
       "<style scoped>\n",
       "    .dataframe tbody tr th:only-of-type {\n",
       "        vertical-align: middle;\n",
       "    }\n",
       "\n",
       "    .dataframe tbody tr th {\n",
       "        vertical-align: top;\n",
       "    }\n",
       "\n",
       "    .dataframe thead th {\n",
       "        text-align: right;\n",
       "    }\n",
       "</style>\n",
       "<table border=\"1\" class=\"dataframe\">\n",
       "  <thead>\n",
       "    <tr style=\"text-align: right;\">\n",
       "      <th></th>\n",
       "      <th>username</th>\n",
       "      <th>image_url</th>\n",
       "      <th>photo_id</th>\n",
       "      <th>freq</th>\n",
       "    </tr>\n",
       "  </thead>\n",
       "  <tbody>\n",
       "    <tr>\n",
       "      <th>0</th>\n",
       "      <td>Zack_Kemmer93</td>\n",
       "      <td>https://jarret.name</td>\n",
       "      <td>145</td>\n",
       "      <td>48</td>\n",
       "    </tr>\n",
       "    <tr>\n",
       "      <th>1</th>\n",
       "      <td>Malinda_Streich</td>\n",
       "      <td>https://celestine.name</td>\n",
       "      <td>127</td>\n",
       "      <td>43</td>\n",
       "    </tr>\n",
       "    <tr>\n",
       "      <th>2</th>\n",
       "      <td>Adelle96</td>\n",
       "      <td>https://dorcas.biz</td>\n",
       "      <td>182</td>\n",
       "      <td>43</td>\n",
       "    </tr>\n",
       "    <tr>\n",
       "      <th>3</th>\n",
       "      <td>Seth46</td>\n",
       "      <td>http://shannon.org</td>\n",
       "      <td>123</td>\n",
       "      <td>42</td>\n",
       "    </tr>\n",
       "    <tr>\n",
       "      <th>4</th>\n",
       "      <td>Presley_McClure</td>\n",
       "      <td>http://kenny.com</td>\n",
       "      <td>30</td>\n",
       "      <td>41</td>\n",
       "    </tr>\n",
       "  </tbody>\n",
       "</table>\n",
       "</div>"
      ],
      "text/plain": [
       "          username               image_url  photo_id  freq\n",
       "0    Zack_Kemmer93     https://jarret.name       145    48\n",
       "1  Malinda_Streich  https://celestine.name       127    43\n",
       "2         Adelle96      https://dorcas.biz       182    43\n",
       "3           Seth46      http://shannon.org       123    42\n",
       "4  Presley_McClure        http://kenny.com        30    41"
      ]
     },
     "metadata": {},
     "output_type": "display_data"
    }
   ],
   "source": [
    "# SQL-Pandas like\n",
    "df_most_likes = pd.read_sql(statement_4, con = engine)\n",
    "\n",
    "display(df_most_likes)"
   ]
  },
  {
   "cell_type": "code",
   "execution_count": 195,
   "metadata": {
    "ExecuteTime": {
     "end_time": "2019-11-11T14:44:48.139563Z",
     "start_time": "2019-11-11T14:44:48.106563Z"
    }
   },
   "outputs": [
    {
     "name": "stdout",
     "output_type": "stream",
     "text": [
      "Top 5 most liked photos: \n",
      "\n",
      "\t User: Zack_Kemmer93, photo: https://jarret.name, likes: 48\n",
      "\t User: Malinda_Streich, photo: https://celestine.name, likes: 43\n",
      "\t User: Adelle96, photo: https://dorcas.biz, likes: 43\n",
      "\t User: Seth46, photo: http://shannon.org, likes: 42\n",
      "\t User: Presley_McClure, photo: http://kenny.com, likes: 41\n"
     ]
    }
   ],
   "source": [
    "# ORM like\n",
    "session = Session(bind=engine)\n",
    "query = session.query(User.username, Photo.image_url, func.count(Photo.image_url)).\\\n",
    "                join(Photo).\\\n",
    "                join(Like).\\\n",
    "                group_by(Like.photo_id).\\\n",
    "                order_by(func.count(Photo.image_url).desc()).\\\n",
    "                all()\n",
    "\n",
    "print('Top 5 most liked photos: \\n')\n",
    "\n",
    "for row in query[:5]:\n",
    "    print('\\t User: ' + row[0] + ', photo: ' + row[1] + ', likes: ' + str(row[2]))"
   ]
  },
  {
   "cell_type": "code",
   "execution_count": null,
   "metadata": {},
   "outputs": [],
   "source": []
  },
  {
   "cell_type": "code",
   "execution_count": 169,
   "metadata": {
    "ExecuteTime": {
     "end_time": "2019-11-11T14:43:27.274563Z",
     "start_time": "2019-11-11T14:43:26.523563Z"
    }
   },
   "outputs": [],
   "source": [
    "Base.metadata.drop_all(engine)"
   ]
  },
  {
   "cell_type": "code",
   "execution_count": null,
   "metadata": {},
   "outputs": [],
   "source": []
  }
 ],
 "metadata": {
  "hide_input": false,
  "kernelspec": {
   "display_name": "Python 3",
   "language": "python",
   "name": "python3"
  },
  "language_info": {
   "codemirror_mode": {
    "name": "ipython",
    "version": 3
   },
   "file_extension": ".py",
   "mimetype": "text/x-python",
   "name": "python",
   "nbconvert_exporter": "python",
   "pygments_lexer": "ipython3",
   "version": "3.7.3"
  },
  "varInspector": {
   "cols": {
    "lenName": 16,
    "lenType": 16,
    "lenVar": 40
   },
   "kernels_config": {
    "python": {
     "delete_cmd_postfix": "",
     "delete_cmd_prefix": "del ",
     "library": "var_list.py",
     "varRefreshCmd": "print(var_dic_list())"
    },
    "r": {
     "delete_cmd_postfix": ") ",
     "delete_cmd_prefix": "rm(",
     "library": "var_list.r",
     "varRefreshCmd": "cat(var_dic_list()) "
    }
   },
   "types_to_exclude": [
    "module",
    "function",
    "builtin_function_or_method",
    "instance",
    "_Feature"
   ],
   "window_display": false
  }
 },
 "nbformat": 4,
 "nbformat_minor": 2
}
